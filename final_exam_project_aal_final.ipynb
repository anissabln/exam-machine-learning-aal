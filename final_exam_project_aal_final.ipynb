{
 "cells": [
  {
   "cell_type": "markdown",
   "id": "c5f91c65-4ab2-49ff-b19b-a49cd915d76c",
   "metadata": {},
   "source": [
    "# Exam Project Anissa, Anna, Lilo"
   ]
  },
  {
   "cell_type": "code",
   "execution_count": 1,
   "id": "72727a4a-8408-4c52-b6e5-34c2ff178c17",
   "metadata": {},
   "outputs": [],
   "source": [
    "## This is our project that uses a machine learning model to classify audio tracks into genres\n",
    "## After exploring and visualizing the data and clarifying why machine learning is the best approach to classify songs accurately in our presentation \n",
    "## we will now show you the machine learning model to help the music company (Harmonic Beats)"
   ]
  },
  {
   "cell_type": "code",
   "execution_count": 2,
   "id": "fc50b861-62ac-4ce7-937e-9f4a09abcd6f",
   "metadata": {},
   "outputs": [],
   "source": [
    "# import the necessary libaries\n",
    "import pandas as pd\n",
    "import numpy as np "
   ]
  },
  {
   "cell_type": "code",
   "execution_count": 3,
   "id": "d0131c6e-f72f-4deb-94c5-18ab4d3a3a43",
   "metadata": {},
   "outputs": [],
   "source": [
    "# load the data set\n",
    "songs_data = pd.read_csv(\"../data/songs_data.csv\")"
   ]
  },
  {
   "cell_type": "markdown",
   "id": "46971cee-d8d5-46fb-a6d1-bccf09459aca",
   "metadata": {},
   "source": [
    "## Data Overview and summary of EDA"
   ]
  },
  {
   "cell_type": "code",
   "execution_count": 4,
   "id": "c3fca1c9-8efb-4904-b711-e98b78290e45",
   "metadata": {},
   "outputs": [],
   "source": [
    "# Here we generate an overview to get familiar with the data\n",
    "# summary of Exploratory Data Analysis as conducted in Milestone 1 of exam project "
   ]
  },
  {
   "cell_type": "code",
   "execution_count": 5,
   "id": "8abb6f44-bcb7-4d90-96dc-c46f51dc0e1a",
   "metadata": {
    "scrolled": true
   },
   "outputs": [
    {
     "name": "stdout",
     "output_type": "stream",
     "text": [
      "<class 'pandas.core.frame.DataFrame'>\n",
      "RangeIndex: 32833 entries, 0 to 32832\n",
      "Data columns (total 19 columns):\n",
      " #   Column            Non-Null Count  Dtype  \n",
      "---  ------            --------------  -----  \n",
      " 0   track_id          32833 non-null  object \n",
      " 1   track_name        32828 non-null  object \n",
      " 2   track_artist      32828 non-null  object \n",
      " 3   track_popularity  32833 non-null  int64  \n",
      " 4   playlist_name     32833 non-null  object \n",
      " 5   playlist_id       32833 non-null  object \n",
      " 6   genre             32833 non-null  object \n",
      " 7   danceability      32833 non-null  float64\n",
      " 8   energy            32833 non-null  float64\n",
      " 9   key               32833 non-null  int64  \n",
      " 10  loudness          32833 non-null  float64\n",
      " 11  mode              32833 non-null  int64  \n",
      " 12  speechiness       32833 non-null  float64\n",
      " 13  acousticness      32833 non-null  float64\n",
      " 14  instrumentalness  32833 non-null  float64\n",
      " 15  liveness          32833 non-null  float64\n",
      " 16  valence           32833 non-null  float64\n",
      " 17  tempo             32833 non-null  float64\n",
      " 18  duration_ms       32833 non-null  int64  \n",
      "dtypes: float64(9), int64(4), object(6)\n",
      "memory usage: 4.8+ MB\n"
     ]
    }
   ],
   "source": [
    "songs_data.info()"
   ]
  },
  {
   "cell_type": "code",
   "execution_count": 6,
   "id": "94f9506c-04af-434f-a957-e98d1aae1500",
   "metadata": {},
   "outputs": [
    {
     "data": {
      "text/plain": [
       "(32833, 19)"
      ]
     },
     "execution_count": 6,
     "metadata": {},
     "output_type": "execute_result"
    }
   ],
   "source": [
    "songs_data.shape"
   ]
  },
  {
   "cell_type": "code",
   "execution_count": 7,
   "id": "c74d7b08-1dc1-4aea-b9fd-398ee6159448",
   "metadata": {
    "scrolled": true
   },
   "outputs": [
    {
     "data": {
      "text/plain": [
       "genre\n",
       "edm      6043\n",
       "rap      5746\n",
       "pop      5507\n",
       "r&b      5431\n",
       "latin    5155\n",
       "rock     4951\n",
       "Name: count, dtype: int64"
      ]
     },
     "execution_count": 7,
     "metadata": {},
     "output_type": "execute_result"
    }
   ],
   "source": [
    "songs_data.genre.value_counts()"
   ]
  },
  {
   "cell_type": "markdown",
   "id": "cdd12930-77bd-4cc3-abe9-920b137928cc",
   "metadata": {},
   "source": [
    "### Breakdown into Gernres"
   ]
  },
  {
   "cell_type": "code",
   "execution_count": 8,
   "id": "dacdb7b4-cc87-4037-a747-4e82ecb59d4c",
   "metadata": {},
   "outputs": [],
   "source": [
    "# delete?"
   ]
  },
  {
   "cell_type": "code",
   "execution_count": 9,
   "id": "86da0465-7386-42ab-97c1-0d9120344be7",
   "metadata": {},
   "outputs": [],
   "source": [
    "rock_data = songs_data[songs_data.genre == \"rock\"]"
   ]
  },
  {
   "cell_type": "code",
   "execution_count": 10,
   "id": "643b3524-cdf5-41eb-b2f5-446a2d192adb",
   "metadata": {},
   "outputs": [],
   "source": [
    "pop_data = songs_data[songs_data.genre == \"pop\"]"
   ]
  },
  {
   "cell_type": "code",
   "execution_count": 11,
   "id": "04aa1611-5225-4c3c-a62e-98be1f5d1b73",
   "metadata": {},
   "outputs": [],
   "source": [
    "rap_data = songs_data[songs_data.genre == \"rap\"]"
   ]
  },
  {
   "cell_type": "code",
   "execution_count": 12,
   "id": "8f400533-0b6f-42c4-bc20-54e9507581fd",
   "metadata": {},
   "outputs": [],
   "source": [
    "latin_data = songs_data[songs_data.genre == \"latin\"]"
   ]
  },
  {
   "cell_type": "code",
   "execution_count": 13,
   "id": "9f0d96c2-ceca-4db0-8c5f-d4a5683d75f8",
   "metadata": {},
   "outputs": [],
   "source": [
    "rnb_data = songs_data[songs_data.genre == \"r&b\"]"
   ]
  },
  {
   "cell_type": "code",
   "execution_count": 14,
   "id": "67e432e8-67b7-42d3-b573-34cf20070c2f",
   "metadata": {},
   "outputs": [],
   "source": [
    "edm_data = songs_data[songs_data.genre == \"edm\"]"
   ]
  },
  {
   "cell_type": "markdown",
   "id": "d31f9290-bdfd-4107-a76c-37775102bbe2",
   "metadata": {},
   "source": [
    "## 1. Data Cleaning"
   ]
  },
  {
   "cell_type": "code",
   "execution_count": 15,
   "id": "eb1ec5ee-eafa-440c-838a-a76436491fe9",
   "metadata": {},
   "outputs": [],
   "source": [
    "# in order of developing an efficient model we will analyze the data to remove any redundant data and handle any missing values"
   ]
  },
  {
   "cell_type": "markdown",
   "id": "fb97dc81-e1b8-47b8-a268-a89dd1da6103",
   "metadata": {},
   "source": [
    "### check for any missing data"
   ]
  },
  {
   "cell_type": "code",
   "execution_count": 16,
   "id": "db59e5b7-b13f-4c48-a48c-39c4a269a31d",
   "metadata": {},
   "outputs": [],
   "source": [
    "# As part of the data cleaning we will check for any missing values in our dataset"
   ]
  },
  {
   "cell_type": "code",
   "execution_count": 17,
   "id": "f1421f31-9b53-4ded-a7bf-97b1b485e864",
   "metadata": {},
   "outputs": [
    {
     "data": {
      "text/plain": [
       "track_id            0\n",
       "track_name          5\n",
       "track_artist        5\n",
       "track_popularity    0\n",
       "playlist_name       0\n",
       "playlist_id         0\n",
       "genre               0\n",
       "danceability        0\n",
       "energy              0\n",
       "key                 0\n",
       "loudness            0\n",
       "mode                0\n",
       "speechiness         0\n",
       "acousticness        0\n",
       "instrumentalness    0\n",
       "liveness            0\n",
       "valence             0\n",
       "tempo               0\n",
       "duration_ms         0\n",
       "dtype: int64"
      ]
     },
     "execution_count": 17,
     "metadata": {},
     "output_type": "execute_result"
    }
   ],
   "source": [
    "songs_data.isnull().sum()"
   ]
  },
  {
   "cell_type": "code",
   "execution_count": 18,
   "id": "6ecf951c-38b5-43ee-92b5-933aa5efaee3",
   "metadata": {},
   "outputs": [],
   "source": [
    "# we realize there are five values missing in columns \"track_name\" and \"track_artisit\"\n",
    "# since these values fall under categories that we define as non-essential for genre classification (see below) there is no need to drop them\n"
   ]
  },
  {
   "cell_type": "markdown",
   "id": "884bcdfc-829d-4c93-ab4c-2316afd7986f",
   "metadata": {},
   "source": [
    "### check for duplicates"
   ]
  },
  {
   "cell_type": "code",
   "execution_count": 19,
   "id": "c7e393a9-31f0-4005-8fe8-2394e6298063",
   "metadata": {},
   "outputs": [
    {
     "data": {
      "text/plain": [
       "323"
      ]
     },
     "execution_count": 19,
     "metadata": {},
     "output_type": "execute_result"
    }
   ],
   "source": [
    "songs_data.duplicated().sum()"
   ]
  },
  {
   "cell_type": "code",
   "execution_count": 20,
   "id": "2ccd29ac-92e5-48eb-902c-0532f9562f29",
   "metadata": {},
   "outputs": [],
   "source": [
    "# dropping duplicates"
   ]
  },
  {
   "cell_type": "code",
   "execution_count": 21,
   "id": "955cefeb-265a-4136-a9ad-003353310ba4",
   "metadata": {},
   "outputs": [
    {
     "name": "stdout",
     "output_type": "stream",
     "text": [
      "(32833, 19)\n",
      "(32510, 19)\n"
     ]
    }
   ],
   "source": [
    "print(songs_data.shape)\n",
    "songs_data_reduced = songs_data.drop_duplicates()\n",
    "print(songs_data_reduced.shape)\n"
   ]
  },
  {
   "cell_type": "markdown",
   "id": "869b8c66-22ce-46cb-8afc-7a2c72314d58",
   "metadata": {},
   "source": [
    "### identifying irrelevant features"
   ]
  },
  {
   "cell_type": "code",
   "execution_count": 22,
   "id": "708f88e0-a995-4fdc-b588-024c4e9cf0a3",
   "metadata": {},
   "outputs": [],
   "source": [
    "# following columns we define as non-essential to genre classification\n",
    "# they do not have meaningful correlation with genre \n",
    "# "
   ]
  },
  {
   "cell_type": "code",
   "execution_count": 23,
   "id": "66b38344-87f4-4146-9786-4b724e3cd532",
   "metadata": {},
   "outputs": [],
   "source": [
    "# Regarding the duration we thought that it could be quite useful for genre classification \n",
    "# because certain genres tend to have typical song lengths (e.g. rock songs typically longer than pop songs)\n",
    "# we visualized each genre's duration to decide if it has meaningful correlation with genre\n"
   ]
  },
  {
   "cell_type": "code",
   "execution_count": 24,
   "id": "2020dcf6-9ae1-4d80-8cc7-7976f9aca506",
   "metadata": {},
   "outputs": [
    {
     "data": {
      "image/png": "[encoded data removed]",
      "text/plain": [
       "<Figure size 640x480 with 1 Axes>"
      ]
     },
     "metadata": {},
     "output_type": "display_data"
    }
   ],
   "source": [
    "pop_data.duration_ms.hist();"
   ]
  },
  {
   "cell_type": "code",
   "execution_count": 25,
   "id": "d64fb762-6cd8-499a-a4d2-4be2a600ccbd",
   "metadata": {},
   "outputs": [
    {
     "data": {
      "image/png": "[encoded data removed]",
      "text/plain": [
       "<Figure size 640x480 with 1 Axes>"
      ]
     },
     "metadata": {},
     "output_type": "display_data"
    }
   ],
   "source": [
    "edm_data.duration_ms.hist();"
   ]
  },
  {
   "cell_type": "code",
   "execution_count": 26,
   "id": "4a332d1c-08a9-4dea-bee9-98dead7d9fee",
   "metadata": {},
   "outputs": [
    {
     "data": {
      "image/png": "[encoded data removed]",
      "text/plain": [
       "<Figure size 640x480 with 1 Axes>"
      ]
     },
     "metadata": {},
     "output_type": "display_data"
    }
   ],
   "source": [
    "rock_data.duration_ms.hist();"
   ]
  },
  {
   "cell_type": "code",
   "execution_count": 27,
   "id": "382f5008-ae2b-48fe-b4ca-93b526fa9963",
   "metadata": {},
   "outputs": [
    {
     "data": {
      "image/png": "[encoded data removed]",
      "text/plain": [
       "<Figure size 640x480 with 1 Axes>"
      ]
     },
     "metadata": {},
     "output_type": "display_data"
    }
   ],
   "source": [
    "latin_data.duration_ms.hist();"
   ]
  },
  {
   "cell_type": "code",
   "execution_count": 28,
   "id": "85fc938c-c8af-4e84-b063-c00f3a8ec47f",
   "metadata": {},
   "outputs": [
    {
     "data": {
      "image/png": "[encoded data removed]",
      "text/plain": [
       "<Figure size 640x480 with 1 Axes>"
      ]
     },
     "metadata": {},
     "output_type": "display_data"
    }
   ],
   "source": [
    "rnb_data.duration_ms.hist();"
   ]
  },
  {
   "cell_type": "code",
   "execution_count": 29,
   "id": "c9f320e5-00e9-4d4c-ade8-a81b0d8e9906",
   "metadata": {},
   "outputs": [
    {
     "data": {
      "image/png": "[encoded data removed]",
      "text/plain": [
       "<Figure size 640x480 with 1 Axes>"
      ]
     },
     "metadata": {},
     "output_type": "display_data"
    }
   ],
   "source": [
    "rap_data.duration_ms.hist();"
   ]
  },
  {
   "cell_type": "code",
   "execution_count": 30,
   "id": "245695b7-a874-4611-a451-0b7ed1518f27",
   "metadata": {},
   "outputs": [],
   "source": [
    "# decided that the differences between the genres were not big enough to determine anything and decided to drop the column as well"
   ]
  },
  {
   "cell_type": "code",
   "execution_count": 31,
   "id": "7fdd7b8b-ca32-42ec-aebb-c5f810978402",
   "metadata": {},
   "outputs": [],
   "source": [
    "songs_data_cleaned = songs_data.drop(columns=['track_name', 'track_id','track_popularity', 'track_artist', 'playlist_name', 'playlist_id', 'duration_ms'])"
   ]
  },
  {
   "cell_type": "code",
   "execution_count": 32,
   "id": "3c049cf2-24d1-40d8-a435-f29bd2fa800f",
   "metadata": {},
   "outputs": [
    {
     "name": "stdout",
     "output_type": "stream",
     "text": [
      "<class 'pandas.core.frame.DataFrame'>\n",
      "RangeIndex: 32833 entries, 0 to 32832\n",
      "Data columns (total 12 columns):\n",
      " #   Column            Non-Null Count  Dtype  \n",
      "---  ------            --------------  -----  \n",
      " 0   genre             32833 non-null  object \n",
      " 1   danceability      32833 non-null  float64\n",
      " 2   energy            32833 non-null  float64\n",
      " 3   key               32833 non-null  int64  \n",
      " 4   loudness          32833 non-null  float64\n",
      " 5   mode              32833 non-null  int64  \n",
      " 6   speechiness       32833 non-null  float64\n",
      " 7   acousticness      32833 non-null  float64\n",
      " 8   instrumentalness  32833 non-null  float64\n",
      " 9   liveness          32833 non-null  float64\n",
      " 10  valence           32833 non-null  float64\n",
      " 11  tempo             32833 non-null  float64\n",
      "dtypes: float64(9), int64(2), object(1)\n",
      "memory usage: 3.0+ MB\n"
     ]
    }
   ],
   "source": [
    "songs_data_cleaned.info()"
   ]
  },
  {
   "cell_type": "code",
   "execution_count": 33,
   "id": "880106fa-a458-4086-8ff4-859655166b5a",
   "metadata": {},
   "outputs": [
    {
     "name": "stdout",
     "output_type": "stream",
     "text": [
      "(32833, 12)\n"
     ]
    }
   ],
   "source": [
    "print(songs_data_cleaned.shape)"
   ]
  },
  {
   "cell_type": "markdown",
   "id": "22421bcd-f4fb-4aa1-9dfe-e0a595793f7f",
   "metadata": {},
   "source": [
    "## remove outliers"
   ]
  },
  {
   "cell_type": "code",
   "execution_count": 34,
   "id": "3ffad0e3-a4ff-45ac-9a9a-5b9e03627045",
   "metadata": {},
   "outputs": [],
   "source": [
    "# check every characteristc for outliers and remove them"
   ]
  },
  {
   "cell_type": "code",
   "execution_count": 35,
   "id": "dee8d95d-eff8-442c-9534-4198a6e5e529",
   "metadata": {},
   "outputs": [
    {
     "data": {
      "image/png": "[encoded data removed]",
      "text/plain": [
       "<Figure size 640x480 with 1 Axes>"
      ]
     },
     "metadata": {},
     "output_type": "display_data"
    }
   ],
   "source": [
    "import seaborn as sns\n",
    "#distribution of danceability\n",
    "sns.boxplot(y=songs_data_cleaned.danceability);"
   ]
  },
  {
   "cell_type": "code",
   "execution_count": 36,
   "id": "fcb33179-bf70-4c8e-a176-ad2b8a217fb8",
   "metadata": {},
   "outputs": [],
   "source": [
    "# remove outliers\n",
    "# reference: https://www.geeksforgeeks.org/detect-and-remove-the-outliers-using-python/\n",
    "\n",
    "songs_data_cleaned = songs_data_cleaned[songs_data_cleaned['danceability'] > 0.28]"
   ]
  },
  {
   "cell_type": "code",
   "execution_count": 37,
   "id": "4cdf3095-c5ea-495e-9691-dad22e258e7e",
   "metadata": {},
   "outputs": [
    {
     "data": {
      "image/png": "[encoded data removed]",
      "text/plain": [
       "<Figure size 640x480 with 1 Axes>"
      ]
     },
     "metadata": {},
     "output_type": "display_data"
    }
   ],
   "source": [
    "sns.boxplot(y=songs_data_cleaned.danceability);"
   ]
  },
  {
   "cell_type": "code",
   "execution_count": 38,
   "id": "40b38ac9-21a0-4a09-a41c-cb9c8acf52c4",
   "metadata": {},
   "outputs": [
    {
     "name": "stdout",
     "output_type": "stream",
     "text": [
      "(32436, 12)\n"
     ]
    }
   ],
   "source": [
    "print(songs_data_cleaned.shape)"
   ]
  },
  {
   "cell_type": "code",
   "execution_count": 39,
   "id": "c8e801e4-d177-4e68-93b3-d3f44ee6f706",
   "metadata": {},
   "outputs": [
    {
     "data": {
      "text/html": [
       "<div>\n",
       "<style scoped>\n",
       "    .dataframe tbody tr th:only-of-type {\n",
       "        vertical-align: middle;\n",
       "    }\n",
       "\n",
       "    .dataframe tbody tr th {\n",
       "        vertical-align: top;\n",
       "    }\n",
       "\n",
       "    .dataframe thead th {\n",
       "        text-align: right;\n",
       "    }\n",
       "</style>\n",
       "<table border=\"1\" class=\"dataframe\">\n",
       "  <thead>\n",
       "    <tr style=\"text-align: right;\">\n",
       "      <th></th>\n",
       "      <th>genre</th>\n",
       "      <th>danceability</th>\n",
       "      <th>energy</th>\n",
       "      <th>key</th>\n",
       "      <th>loudness</th>\n",
       "      <th>mode</th>\n",
       "      <th>speechiness</th>\n",
       "      <th>acousticness</th>\n",
       "      <th>instrumentalness</th>\n",
       "      <th>liveness</th>\n",
       "      <th>valence</th>\n",
       "      <th>tempo</th>\n",
       "    </tr>\n",
       "  </thead>\n",
       "  <tbody>\n",
       "    <tr>\n",
       "      <th>0</th>\n",
       "      <td>pop</td>\n",
       "      <td>0.748</td>\n",
       "      <td>0.916</td>\n",
       "      <td>6</td>\n",
       "      <td>-2.634</td>\n",
       "      <td>1</td>\n",
       "      <td>0.0583</td>\n",
       "      <td>0.1020</td>\n",
       "      <td>0.000000</td>\n",
       "      <td>0.0653</td>\n",
       "      <td>0.518</td>\n",
       "      <td>122.036</td>\n",
       "    </tr>\n",
       "    <tr>\n",
       "      <th>1</th>\n",
       "      <td>pop</td>\n",
       "      <td>0.726</td>\n",
       "      <td>0.815</td>\n",
       "      <td>11</td>\n",
       "      <td>-4.969</td>\n",
       "      <td>1</td>\n",
       "      <td>0.0373</td>\n",
       "      <td>0.0724</td>\n",
       "      <td>0.004210</td>\n",
       "      <td>0.3570</td>\n",
       "      <td>0.693</td>\n",
       "      <td>99.972</td>\n",
       "    </tr>\n",
       "    <tr>\n",
       "      <th>2</th>\n",
       "      <td>pop</td>\n",
       "      <td>0.675</td>\n",
       "      <td>0.931</td>\n",
       "      <td>1</td>\n",
       "      <td>-3.432</td>\n",
       "      <td>0</td>\n",
       "      <td>0.0742</td>\n",
       "      <td>0.0794</td>\n",
       "      <td>0.000023</td>\n",
       "      <td>0.1100</td>\n",
       "      <td>0.613</td>\n",
       "      <td>124.008</td>\n",
       "    </tr>\n",
       "    <tr>\n",
       "      <th>3</th>\n",
       "      <td>pop</td>\n",
       "      <td>0.718</td>\n",
       "      <td>0.930</td>\n",
       "      <td>7</td>\n",
       "      <td>-3.778</td>\n",
       "      <td>1</td>\n",
       "      <td>0.1020</td>\n",
       "      <td>0.0287</td>\n",
       "      <td>0.000009</td>\n",
       "      <td>0.2040</td>\n",
       "      <td>0.277</td>\n",
       "      <td>121.956</td>\n",
       "    </tr>\n",
       "    <tr>\n",
       "      <th>4</th>\n",
       "      <td>pop</td>\n",
       "      <td>0.650</td>\n",
       "      <td>0.833</td>\n",
       "      <td>1</td>\n",
       "      <td>-4.672</td>\n",
       "      <td>1</td>\n",
       "      <td>0.0359</td>\n",
       "      <td>0.0803</td>\n",
       "      <td>0.000000</td>\n",
       "      <td>0.0833</td>\n",
       "      <td>0.725</td>\n",
       "      <td>123.976</td>\n",
       "    </tr>\n",
       "  </tbody>\n",
       "</table>\n",
       "</div>"
      ],
      "text/plain": [
       "  genre  danceability  energy  key  loudness  mode  speechiness  acousticness  \\\n",
       "0   pop         0.748   0.916    6    -2.634     1       0.0583        0.1020   \n",
       "1   pop         0.726   0.815   11    -4.969     1       0.0373        0.0724   \n",
       "2   pop         0.675   0.931    1    -3.432     0       0.0742        0.0794   \n",
       "3   pop         0.718   0.930    7    -3.778     1       0.1020        0.0287   \n",
       "4   pop         0.650   0.833    1    -4.672     1       0.0359        0.0803   \n",
       "\n",
       "   instrumentalness  liveness  valence    tempo  \n",
       "0          0.000000    0.0653    0.518  122.036  \n",
       "1          0.004210    0.3570    0.693   99.972  \n",
       "2          0.000023    0.1100    0.613  124.008  \n",
       "3          0.000009    0.2040    0.277  121.956  \n",
       "4          0.000000    0.0833    0.725  123.976  "
      ]
     },
     "execution_count": 39,
     "metadata": {},
     "output_type": "execute_result"
    }
   ],
   "source": [
    "songs_data_cleaned.head()"
   ]
  },
  {
   "cell_type": "code",
   "execution_count": 40,
   "id": "0966483f-4d8d-4c75-a62f-f4c43a18da37",
   "metadata": {},
   "outputs": [
    {
     "name": "stdout",
     "output_type": "stream",
     "text": [
      "<class 'pandas.core.frame.DataFrame'>\n",
      "Index: 32436 entries, 0 to 32832\n",
      "Data columns (total 12 columns):\n",
      " #   Column            Non-Null Count  Dtype  \n",
      "---  ------            --------------  -----  \n",
      " 0   genre             32436 non-null  object \n",
      " 1   danceability      32436 non-null  float64\n",
      " 2   energy            32436 non-null  float64\n",
      " 3   key               32436 non-null  int64  \n",
      " 4   loudness          32436 non-null  float64\n",
      " 5   mode              32436 non-null  int64  \n",
      " 6   speechiness       32436 non-null  float64\n",
      " 7   acousticness      32436 non-null  float64\n",
      " 8   instrumentalness  32436 non-null  float64\n",
      " 9   liveness          32436 non-null  float64\n",
      " 10  valence           32436 non-null  float64\n",
      " 11  tempo             32436 non-null  float64\n",
      "dtypes: float64(9), int64(2), object(1)\n",
      "memory usage: 3.2+ MB\n"
     ]
    }
   ],
   "source": [
    "songs_data_cleaned.info()"
   ]
  },
  {
   "cell_type": "code",
   "execution_count": 39,
   "id": "d6daad98-31e0-4e8c-b0ad-286c573f1e4e",
   "metadata": {},
   "outputs": [],
   "source": [
    "#repeat for the other categories"
   ]
  },
  {
   "cell_type": "code",
   "execution_count": 40,
   "id": "1d564c47-7d7f-4772-af05-9e6d97e27288",
   "metadata": {},
   "outputs": [
    {
     "data": {
      "image/png": "[encoded data removed]",
      "text/plain": [
       "<Figure size 640x480 with 1 Axes>"
      ]
     },
     "metadata": {},
     "output_type": "display_data"
    }
   ],
   "source": [
    "sns.boxplot(y=songs_data_cleaned.energy);"
   ]
  },
  {
   "cell_type": "code",
   "execution_count": 41,
   "id": "b4cddb10-af6a-4146-b58a-6f906d3db2a6",
   "metadata": {},
   "outputs": [],
   "source": [
    "songs_data_cleaned = songs_data_cleaned[songs_data_cleaned['energy'] > 0.21]"
   ]
  },
  {
   "cell_type": "code",
   "execution_count": 42,
   "id": "fcf89997-5050-45d0-a3a6-3feff7be64eb",
   "metadata": {},
   "outputs": [
    {
     "data": {
      "image/png": "[encoded data removed]",
      "text/plain": [
       "<Figure size 640x480 with 1 Axes>"
      ]
     },
     "metadata": {},
     "output_type": "display_data"
    }
   ],
   "source": [
    "sns.boxplot(y=songs_data_cleaned.energy);"
   ]
  },
  {
   "cell_type": "code",
   "execution_count": 43,
   "id": "8d566ff5-9e9d-417d-ab2e-b55da9359028",
   "metadata": {},
   "outputs": [
    {
     "data": {
      "image/png": "[encoded data removed]",
      "text/plain": [
       "<Figure size 640x480 with 1 Axes>"
      ]
     },
     "metadata": {},
     "output_type": "display_data"
    }
   ],
   "source": [
    "sns.boxplot(y=songs_data_cleaned.key);\n",
    "#no outliers so no need to remove them"
   ]
  },
  {
   "cell_type": "code",
   "execution_count": 44,
   "id": "3fc21ffb-d3d7-4185-8cb2-658db62f72bc",
   "metadata": {},
   "outputs": [
    {
     "data": {
      "image/png": "[encoded data removed]",
      "text/plain": [
       "<Figure size 640x480 with 1 Axes>"
      ]
     },
     "metadata": {},
     "output_type": "display_data"
    }
   ],
   "source": [
    "sns.boxplot(y=songs_data_cleaned.loudness);"
   ]
  },
  {
   "cell_type": "code",
   "execution_count": 45,
   "id": "1cdd1511-e962-452c-9303-84890a311945",
   "metadata": {},
   "outputs": [],
   "source": [
    "songs_data_cleaned = songs_data_cleaned[songs_data_cleaned['loudness'] > -12.5]\n",
    "songs_data_cleaned = songs_data_cleaned[songs_data_cleaned['loudness'] < 0]"
   ]
  },
  {
   "cell_type": "code",
   "execution_count": 46,
   "id": "17d42bf4-2547-4d5f-b598-c64672c9d572",
   "metadata": {},
   "outputs": [
    {
     "data": {
      "image/png": "[encoded data removed]",
      "text/plain": [
       "<Figure size 640x480 with 1 Axes>"
      ]
     },
     "metadata": {},
     "output_type": "display_data"
    }
   ],
   "source": [
    "sns.boxplot(y=songs_data_cleaned.loudness);"
   ]
  },
  {
   "cell_type": "code",
   "execution_count": 47,
   "id": "c673d181-715d-438f-bd12-29eb0497821e",
   "metadata": {},
   "outputs": [],
   "source": [
    "#sns.boxplot(y=songs_data_cleaned.mode);"
   ]
  },
  {
   "cell_type": "code",
   "execution_count": 48,
   "id": "735d368c-f91b-4c08-a920-dfb7684a1a05",
   "metadata": {},
   "outputs": [],
   "source": [
    "#songs_data_cleaned = songs_data_cleaned[songs_data_cleaned['mode'] > 0.24]"
   ]
  },
  {
   "cell_type": "code",
   "execution_count": 49,
   "id": "8e0f5816-d7e8-4583-9d7a-f9a58d9fb3d6",
   "metadata": {},
   "outputs": [],
   "source": [
    "#sns.boxplot(y=songs_data_cleaned.mode);"
   ]
  },
  {
   "cell_type": "code",
   "execution_count": 50,
   "id": "e1b1ad47-0806-4c81-b7e0-0f2f1549b486",
   "metadata": {},
   "outputs": [
    {
     "data": {
      "image/png": "[encoded data removed]",
      "text/plain": [
       "<Figure size 640x480 with 1 Axes>"
      ]
     },
     "metadata": {},
     "output_type": "display_data"
    }
   ],
   "source": [
    "sns.boxplot(y=songs_data_cleaned.speechiness);"
   ]
  },
  {
   "cell_type": "code",
   "execution_count": 51,
   "id": "a580b236-eede-425b-9a6e-52be85ec6ef2",
   "metadata": {},
   "outputs": [],
   "source": [
    "songs_data_cleaned = songs_data_cleaned[songs_data_cleaned['speechiness'] < 0.107]"
   ]
  },
  {
   "cell_type": "code",
   "execution_count": 52,
   "id": "c9b5b0be-3975-4cb9-a2b8-5f864ff12add",
   "metadata": {},
   "outputs": [
    {
     "data": {
      "image/png": "[encoded data removed]",
      "text/plain": [
       "<Figure size 640x480 with 1 Axes>"
      ]
     },
     "metadata": {},
     "output_type": "display_data"
    }
   ],
   "source": [
    "sns.boxplot(y=songs_data_cleaned.speechiness);"
   ]
  },
  {
   "cell_type": "code",
   "execution_count": 53,
   "id": "7452ff0d-79fb-4702-a1ec-c7b789df5459",
   "metadata": {},
   "outputs": [
    {
     "data": {
      "image/png": "[encoded data removed]",
      "text/plain": [
       "<Figure size 640x480 with 1 Axes>"
      ]
     },
     "metadata": {},
     "output_type": "display_data"
    }
   ],
   "source": [
    "sns.boxplot(y=songs_data_cleaned.acousticness);"
   ]
  },
  {
   "cell_type": "code",
   "execution_count": 54,
   "id": "6345c40f-b6ef-48a6-9982-439ab3a9ae0e",
   "metadata": {},
   "outputs": [],
   "source": [
    "songs_data_cleaned = songs_data_cleaned[songs_data_cleaned['acousticness'] < 0.190]"
   ]
  },
  {
   "cell_type": "code",
   "execution_count": 55,
   "id": "7aecefc7-8ceb-4fe1-bd51-d22da211deaa",
   "metadata": {},
   "outputs": [
    {
     "data": {
      "image/png": "[encoded data removed]",
      "text/plain": [
       "<Figure size 640x480 with 1 Axes>"
      ]
     },
     "metadata": {},
     "output_type": "display_data"
    }
   ],
   "source": [
    "sns.boxplot(y=songs_data_cleaned.acousticness);"
   ]
  },
  {
   "cell_type": "code",
   "execution_count": 56,
   "id": "0fe50e07-4d11-4599-bffc-3b4708ebc535",
   "metadata": {},
   "outputs": [
    {
     "data": {
      "image/png": "[encoded data removed]",
      "text/plain": [
       "<Figure size 640x480 with 1 Axes>"
      ]
     },
     "metadata": {},
     "output_type": "display_data"
    }
   ],
   "source": [
    "sns.boxplot(y=songs_data_cleaned.instrumentalness);"
   ]
  },
  {
   "cell_type": "code",
   "execution_count": 66,
   "id": "f86a9397-0a47-42d5-99e5-f714dab007c9",
   "metadata": {},
   "outputs": [],
   "source": [
    "songs_data_cleaned = songs_data_cleaned[songs_data_cleaned['instrumentalness'] > 0.2]"
   ]
  },
  {
   "cell_type": "code",
   "execution_count": 67,
   "id": "500f03ed-e6e6-4857-a18b-704ebc233daf",
   "metadata": {},
   "outputs": [
    {
     "data": {
      "image/png": "[encoded data removed]",
      "text/plain": [
       "<Figure size 640x480 with 1 Axes>"
      ]
     },
     "metadata": {},
     "output_type": "display_data"
    }
   ],
   "source": [
    "sns.boxplot(y=songs_data_cleaned.instrumentalness);"
   ]
  },
  {
   "cell_type": "code",
   "execution_count": 59,
   "id": "09007c47-ebbd-44d5-8768-a4fa72e106e3",
   "metadata": {},
   "outputs": [
    {
     "data": {
      "image/png": "[encoded data removed]",
      "text/plain": [
       "<Figure size 640x480 with 1 Axes>"
      ]
     },
     "metadata": {},
     "output_type": "display_data"
    }
   ],
   "source": [
    "sns.boxplot(y=songs_data_cleaned.liveness);"
   ]
  },
  {
   "cell_type": "code",
   "execution_count": 60,
   "id": "7049ad14-fc30-4cbf-9dc4-c73955376692",
   "metadata": {},
   "outputs": [],
   "source": [
    "songs_data_cleaned = songs_data_cleaned[songs_data_cleaned['liveness'] > 0.5]"
   ]
  },
  {
   "cell_type": "code",
   "execution_count": 61,
   "id": "a86aaef5-772f-4285-90d5-9403880ed4cb",
   "metadata": {},
   "outputs": [
    {
     "data": {
      "image/png": "[encoded data removed]",
      "text/plain": [
       "<Figure size 640x480 with 1 Axes>"
      ]
     },
     "metadata": {},
     "output_type": "display_data"
    }
   ],
   "source": [
    "sns.boxplot(y=songs_data_cleaned.liveness);"
   ]
  },
  {
   "cell_type": "code",
   "execution_count": 62,
   "id": "14f78389-fa88-4eff-b759-1f0e2c9fe899",
   "metadata": {},
   "outputs": [
    {
     "data": {
      "image/png": "[encoded data removed]",
      "text/plain": [
       "<Figure size 640x480 with 1 Axes>"
      ]
     },
     "metadata": {},
     "output_type": "display_data"
    }
   ],
   "source": [
    "sns.boxplot(y=songs_data_cleaned.valence);"
   ]
  },
  {
   "cell_type": "code",
   "execution_count": 63,
   "id": "388bce2c-9b49-40d3-9098-b7fbeae5df3c",
   "metadata": {},
   "outputs": [
    {
     "data": {
      "image/png": "[encoded data removed]",
      "text/plain": [
       "<Figure size 640x480 with 1 Axes>"
      ]
     },
     "metadata": {},
     "output_type": "display_data"
    }
   ],
   "source": [
    "sns.boxplot(y=songs_data_cleaned.tempo);"
   ]
  },
  {
   "cell_type": "code",
   "execution_count": 64,
   "id": "f984821a-3c50-4171-8a92-581771973280",
   "metadata": {},
   "outputs": [],
   "source": [
    "songs_data_cleaned = songs_data_cleaned[songs_data_cleaned['tempo'] > 170]\n",
    "#songs_data_cleaned = songs_data_cleaned[songs_data_cleaned['tempo'] < 70]"
   ]
  },
  {
   "cell_type": "code",
   "execution_count": 65,
   "id": "e86c9a5b-42b6-41f6-bc2b-43dbf3015626",
   "metadata": {},
   "outputs": [
    {
     "data": {
      "image/png": "[encoded data removed]",
      "text/plain": [
       "<Figure size 640x480 with 1 Axes>"
      ]
     },
     "metadata": {},
     "output_type": "display_data"
    }
   ],
   "source": [
    "sns.boxplot(y=songs_data_cleaned.tempo);"
   ]
  },
  {
   "cell_type": "code",
   "execution_count": 69,
   "id": "faddecf7-b5f7-4ee9-8121-4abb0cf70f9d",
   "metadata": {},
   "outputs": [
    {
     "name": "stdout",
     "output_type": "stream",
     "text": [
      "(0, 12)\n"
     ]
    }
   ],
   "source": [
    "print(songs_data_cleaned.shape)"
   ]
  },
  {
   "cell_type": "code",
   "execution_count": 70,
   "id": "a95e3b02-c752-45b1-bdbf-07c0f5b1f3a7",
   "metadata": {},
   "outputs": [
    {
     "data": {
      "text/html": [
       "<div>\n",
       "<style scoped>\n",
       "    .dataframe tbody tr th:only-of-type {\n",
       "        vertical-align: middle;\n",
       "    }\n",
       "\n",
       "    .dataframe tbody tr th {\n",
       "        vertical-align: top;\n",
       "    }\n",
       "\n",
       "    .dataframe thead th {\n",
       "        text-align: right;\n",
       "    }\n",
       "</style>\n",
       "<table border=\"1\" class=\"dataframe\">\n",
       "  <thead>\n",
       "    <tr style=\"text-align: right;\">\n",
       "      <th></th>\n",
       "      <th>genre</th>\n",
       "      <th>danceability</th>\n",
       "      <th>energy</th>\n",
       "      <th>key</th>\n",
       "      <th>loudness</th>\n",
       "      <th>mode</th>\n",
       "      <th>speechiness</th>\n",
       "      <th>acousticness</th>\n",
       "      <th>instrumentalness</th>\n",
       "      <th>liveness</th>\n",
       "      <th>valence</th>\n",
       "      <th>tempo</th>\n",
       "    </tr>\n",
       "  </thead>\n",
       "  <tbody>\n",
       "  </tbody>\n",
       "</table>\n",
       "</div>"
      ],
      "text/plain": [
       "Empty DataFrame\n",
       "Columns: [genre, danceability, energy, key, loudness, mode, speechiness, acousticness, instrumentalness, liveness, valence, tempo]\n",
       "Index: []"
      ]
     },
     "execution_count": 70,
     "metadata": {},
     "output_type": "execute_result"
    }
   ],
   "source": [
    "songs_data_cleaned.head()"
   ]
  },
  {
   "cell_type": "markdown",
   "id": "e4f9c474-7976-4550-b415-ab8244d17938",
   "metadata": {},
   "source": [
    "# 2. Feature Engineering"
   ]
  },
  {
   "cell_type": "markdown",
   "id": "b1f96e0d-9bcd-45f1-b823-3b9ec72a986c",
   "metadata": {},
   "source": [
    "## Label Encoding"
   ]
  },
  {
   "cell_type": "code",
   "execution_count": 42,
   "id": "14b41732-6312-4d96-bcd5-06d4ee4b3872",
   "metadata": {},
   "outputs": [],
   "source": [
    "# first thing we do in feature engineering is that we need to transform the object types into numbers by using label encoding"
   ]
  },
  {
   "cell_type": "code",
   "execution_count": 43,
   "id": "0a3c96dc-e696-4219-88a8-c9aab3ba6032",
   "metadata": {},
   "outputs": [
    {
     "data": {
      "text/plain": [
       "array(['pop', 'rap', 'rock', 'latin', 'r&b', 'edm'], dtype=object)"
      ]
     },
     "execution_count": 43,
     "metadata": {},
     "output_type": "execute_result"
    }
   ],
   "source": [
    "songs_data_cleaned['genre'].unique()"
   ]
  },
  {
   "cell_type": "code",
   "execution_count": 44,
   "id": "7e230c7c-8ac7-4b7c-87fc-c5ed9d0842a6",
   "metadata": {},
   "outputs": [
    {
     "data": {
      "text/plain": [
       "array([2, 4, 5, 1, 3, 0])"
      ]
     },
     "execution_count": 44,
     "metadata": {},
     "output_type": "execute_result"
    }
   ],
   "source": [
    "# Import label encoder \n",
    "from sklearn import preprocessing \n",
    "  \n",
    "# label_encoder object knows  \n",
    "# how to understand word labels. \n",
    "genre_encoded = preprocessing.LabelEncoder() \n",
    "  \n",
    "# Encode labels in column 'species'. \n",
    "songs_data_cleaned['genre']= genre_encoded.fit_transform(songs_data_cleaned['genre']) \n",
    "  \n",
    "songs_data_cleaned['genre'].unique() "
   ]
  },
  {
   "cell_type": "code",
   "execution_count": 45,
   "id": "49256b9f-bebe-4862-9d52-0fbead60c4d0",
   "metadata": {},
   "outputs": [
    {
     "data": {
      "text/html": [
       "<div>\n",
       "<style scoped>\n",
       "    .dataframe tbody tr th:only-of-type {\n",
       "        vertical-align: middle;\n",
       "    }\n",
       "\n",
       "    .dataframe tbody tr th {\n",
       "        vertical-align: top;\n",
       "    }\n",
       "\n",
       "    .dataframe thead th {\n",
       "        text-align: right;\n",
       "    }\n",
       "</style>\n",
       "<table border=\"1\" class=\"dataframe\">\n",
       "  <thead>\n",
       "    <tr style=\"text-align: right;\">\n",
       "      <th></th>\n",
       "      <th>genre</th>\n",
       "      <th>danceability</th>\n",
       "      <th>energy</th>\n",
       "      <th>key</th>\n",
       "      <th>loudness</th>\n",
       "      <th>mode</th>\n",
       "      <th>speechiness</th>\n",
       "      <th>acousticness</th>\n",
       "      <th>instrumentalness</th>\n",
       "      <th>liveness</th>\n",
       "      <th>valence</th>\n",
       "      <th>tempo</th>\n",
       "    </tr>\n",
       "  </thead>\n",
       "  <tbody>\n",
       "    <tr>\n",
       "      <th>0</th>\n",
       "      <td>2</td>\n",
       "      <td>0.748</td>\n",
       "      <td>0.916</td>\n",
       "      <td>6</td>\n",
       "      <td>-2.634</td>\n",
       "      <td>1</td>\n",
       "      <td>0.0583</td>\n",
       "      <td>0.1020</td>\n",
       "      <td>0.000000</td>\n",
       "      <td>0.0653</td>\n",
       "      <td>0.518</td>\n",
       "      <td>122.036</td>\n",
       "    </tr>\n",
       "    <tr>\n",
       "      <th>1</th>\n",
       "      <td>2</td>\n",
       "      <td>0.726</td>\n",
       "      <td>0.815</td>\n",
       "      <td>11</td>\n",
       "      <td>-4.969</td>\n",
       "      <td>1</td>\n",
       "      <td>0.0373</td>\n",
       "      <td>0.0724</td>\n",
       "      <td>0.004210</td>\n",
       "      <td>0.3570</td>\n",
       "      <td>0.693</td>\n",
       "      <td>99.972</td>\n",
       "    </tr>\n",
       "    <tr>\n",
       "      <th>2</th>\n",
       "      <td>2</td>\n",
       "      <td>0.675</td>\n",
       "      <td>0.931</td>\n",
       "      <td>1</td>\n",
       "      <td>-3.432</td>\n",
       "      <td>0</td>\n",
       "      <td>0.0742</td>\n",
       "      <td>0.0794</td>\n",
       "      <td>0.000023</td>\n",
       "      <td>0.1100</td>\n",
       "      <td>0.613</td>\n",
       "      <td>124.008</td>\n",
       "    </tr>\n",
       "    <tr>\n",
       "      <th>3</th>\n",
       "      <td>2</td>\n",
       "      <td>0.718</td>\n",
       "      <td>0.930</td>\n",
       "      <td>7</td>\n",
       "      <td>-3.778</td>\n",
       "      <td>1</td>\n",
       "      <td>0.1020</td>\n",
       "      <td>0.0287</td>\n",
       "      <td>0.000009</td>\n",
       "      <td>0.2040</td>\n",
       "      <td>0.277</td>\n",
       "      <td>121.956</td>\n",
       "    </tr>\n",
       "    <tr>\n",
       "      <th>4</th>\n",
       "      <td>2</td>\n",
       "      <td>0.650</td>\n",
       "      <td>0.833</td>\n",
       "      <td>1</td>\n",
       "      <td>-4.672</td>\n",
       "      <td>1</td>\n",
       "      <td>0.0359</td>\n",
       "      <td>0.0803</td>\n",
       "      <td>0.000000</td>\n",
       "      <td>0.0833</td>\n",
       "      <td>0.725</td>\n",
       "      <td>123.976</td>\n",
       "    </tr>\n",
       "  </tbody>\n",
       "</table>\n",
       "</div>"
      ],
      "text/plain": [
       "   genre  danceability  energy  key  loudness  mode  speechiness  \\\n",
       "0      2         0.748   0.916    6    -2.634     1       0.0583   \n",
       "1      2         0.726   0.815   11    -4.969     1       0.0373   \n",
       "2      2         0.675   0.931    1    -3.432     0       0.0742   \n",
       "3      2         0.718   0.930    7    -3.778     1       0.1020   \n",
       "4      2         0.650   0.833    1    -4.672     1       0.0359   \n",
       "\n",
       "   acousticness  instrumentalness  liveness  valence    tempo  \n",
       "0        0.1020          0.000000    0.0653    0.518  122.036  \n",
       "1        0.0724          0.004210    0.3570    0.693   99.972  \n",
       "2        0.0794          0.000023    0.1100    0.613  124.008  \n",
       "3        0.0287          0.000009    0.2040    0.277  121.956  \n",
       "4        0.0803          0.000000    0.0833    0.725  123.976  "
      ]
     },
     "execution_count": 45,
     "metadata": {},
     "output_type": "execute_result"
    }
   ],
   "source": [
    "songs_data_cleaned.head()"
   ]
  },
  {
   "cell_type": "code",
   "execution_count": 46,
   "id": "0d4b0974-a70d-40ca-b74e-bcd2e7b92a1c",
   "metadata": {},
   "outputs": [],
   "source": [
    "# the next step is to encode the track id into numerical type data"
   ]
  },
  {
   "cell_type": "code",
   "execution_count": 47,
   "id": "817d6bb2-e604-4f4d-a935-225adda20495",
   "metadata": {},
   "outputs": [
    {
     "data": {
      "text/html": [
       "<div>\n",
       "<style scoped>\n",
       "    .dataframe tbody tr th:only-of-type {\n",
       "        vertical-align: middle;\n",
       "    }\n",
       "\n",
       "    .dataframe tbody tr th {\n",
       "        vertical-align: top;\n",
       "    }\n",
       "\n",
       "    .dataframe thead th {\n",
       "        text-align: right;\n",
       "    }\n",
       "</style>\n",
       "<table border=\"1\" class=\"dataframe\">\n",
       "  <thead>\n",
       "    <tr style=\"text-align: right;\">\n",
       "      <th></th>\n",
       "      <th>genre</th>\n",
       "      <th>danceability</th>\n",
       "      <th>energy</th>\n",
       "      <th>key</th>\n",
       "      <th>loudness</th>\n",
       "      <th>mode</th>\n",
       "      <th>speechiness</th>\n",
       "      <th>acousticness</th>\n",
       "      <th>instrumentalness</th>\n",
       "      <th>liveness</th>\n",
       "      <th>valence</th>\n",
       "      <th>tempo</th>\n",
       "    </tr>\n",
       "  </thead>\n",
       "  <tbody>\n",
       "    <tr>\n",
       "      <th>0</th>\n",
       "      <td>2</td>\n",
       "      <td>0.748</td>\n",
       "      <td>0.916</td>\n",
       "      <td>6</td>\n",
       "      <td>-2.634</td>\n",
       "      <td>1</td>\n",
       "      <td>0.0583</td>\n",
       "      <td>0.1020</td>\n",
       "      <td>0.000000</td>\n",
       "      <td>0.0653</td>\n",
       "      <td>0.518</td>\n",
       "      <td>122.036</td>\n",
       "    </tr>\n",
       "    <tr>\n",
       "      <th>1</th>\n",
       "      <td>2</td>\n",
       "      <td>0.726</td>\n",
       "      <td>0.815</td>\n",
       "      <td>11</td>\n",
       "      <td>-4.969</td>\n",
       "      <td>1</td>\n",
       "      <td>0.0373</td>\n",
       "      <td>0.0724</td>\n",
       "      <td>0.004210</td>\n",
       "      <td>0.3570</td>\n",
       "      <td>0.693</td>\n",
       "      <td>99.972</td>\n",
       "    </tr>\n",
       "    <tr>\n",
       "      <th>2</th>\n",
       "      <td>2</td>\n",
       "      <td>0.675</td>\n",
       "      <td>0.931</td>\n",
       "      <td>1</td>\n",
       "      <td>-3.432</td>\n",
       "      <td>0</td>\n",
       "      <td>0.0742</td>\n",
       "      <td>0.0794</td>\n",
       "      <td>0.000023</td>\n",
       "      <td>0.1100</td>\n",
       "      <td>0.613</td>\n",
       "      <td>124.008</td>\n",
       "    </tr>\n",
       "    <tr>\n",
       "      <th>3</th>\n",
       "      <td>2</td>\n",
       "      <td>0.718</td>\n",
       "      <td>0.930</td>\n",
       "      <td>7</td>\n",
       "      <td>-3.778</td>\n",
       "      <td>1</td>\n",
       "      <td>0.1020</td>\n",
       "      <td>0.0287</td>\n",
       "      <td>0.000009</td>\n",
       "      <td>0.2040</td>\n",
       "      <td>0.277</td>\n",
       "      <td>121.956</td>\n",
       "    </tr>\n",
       "    <tr>\n",
       "      <th>4</th>\n",
       "      <td>2</td>\n",
       "      <td>0.650</td>\n",
       "      <td>0.833</td>\n",
       "      <td>1</td>\n",
       "      <td>-4.672</td>\n",
       "      <td>1</td>\n",
       "      <td>0.0359</td>\n",
       "      <td>0.0803</td>\n",
       "      <td>0.000000</td>\n",
       "      <td>0.0833</td>\n",
       "      <td>0.725</td>\n",
       "      <td>123.976</td>\n",
       "    </tr>\n",
       "  </tbody>\n",
       "</table>\n",
       "</div>"
      ],
      "text/plain": [
       "   genre  danceability  energy  key  loudness  mode  speechiness  \\\n",
       "0      2         0.748   0.916    6    -2.634     1       0.0583   \n",
       "1      2         0.726   0.815   11    -4.969     1       0.0373   \n",
       "2      2         0.675   0.931    1    -3.432     0       0.0742   \n",
       "3      2         0.718   0.930    7    -3.778     1       0.1020   \n",
       "4      2         0.650   0.833    1    -4.672     1       0.0359   \n",
       "\n",
       "   acousticness  instrumentalness  liveness  valence    tempo  \n",
       "0        0.1020          0.000000    0.0653    0.518  122.036  \n",
       "1        0.0724          0.004210    0.3570    0.693   99.972  \n",
       "2        0.0794          0.000023    0.1100    0.613  124.008  \n",
       "3        0.0287          0.000009    0.2040    0.277  121.956  \n",
       "4        0.0803          0.000000    0.0833    0.725  123.976  "
      ]
     },
     "execution_count": 47,
     "metadata": {},
     "output_type": "execute_result"
    }
   ],
   "source": [
    "songs_data_cleaned.head()"
   ]
  },
  {
   "cell_type": "markdown",
   "id": "14399ccb-afe9-404e-920d-1da16bf3fa8a",
   "metadata": {},
   "source": [
    "## Creating New Features to improve accuracy "
   ]
  },
  {
   "cell_type": "code",
   "execution_count": 48,
   "id": "1053ac76-4999-491f-a13f-ace4589ef87e",
   "metadata": {},
   "outputs": [],
   "source": [
    "songs_data_cleaned['danceability_energy'] = songs_data_cleaned['danceability'] / songs_data_cleaned['energy']"
   ]
  },
  {
   "cell_type": "code",
   "execution_count": 49,
   "id": "c7855d41-d90a-40c6-9274-ca8017f8f6a7",
   "metadata": {},
   "outputs": [],
   "source": [
    "#songs_data_cleaned['acoustic_instrumental'] = songs_data_cleaned['acousticness'] * songs_data_cleaned['instrumentalness']"
   ]
  },
  {
   "cell_type": "code",
   "execution_count": 50,
   "id": "e284cf4c-2fe8-467b-a9d4-6befb99a3671",
   "metadata": {},
   "outputs": [],
   "source": [
    "songs_data_cleaned['valence_loudness'] = songs_data_cleaned['valence'] / songs_data_cleaned['loudness']"
   ]
  },
  {
   "cell_type": "code",
   "execution_count": null,
   "id": "773126ad-8014-41d7-befe-fa11763daaf3",
   "metadata": {},
   "outputs": [],
   "source": []
  },
  {
   "cell_type": "code",
   "execution_count": null,
   "id": "67ca03dd-d365-42f6-8011-c8063da0e508",
   "metadata": {},
   "outputs": [],
   "source": []
  },
  {
   "cell_type": "code",
   "execution_count": null,
   "id": "c3e21a36-0108-43a9-8a69-39a377aaab05",
   "metadata": {},
   "outputs": [],
   "source": []
  },
  {
   "cell_type": "code",
   "execution_count": null,
   "id": "dc339251-cb06-4125-a0c7-bc21e7a20de5",
   "metadata": {},
   "outputs": [],
   "source": []
  },
  {
   "cell_type": "code",
   "execution_count": 51,
   "id": "c77a92e1-d7bc-44b8-ba75-bf80e0ea6063",
   "metadata": {},
   "outputs": [
    {
     "data": {
      "text/plain": [
       "239.44"
      ]
     },
     "execution_count": 51,
     "metadata": {},
     "output_type": "execute_result"
    }
   ],
   "source": [
    "songs_data_cleaned.tempo.max()"
   ]
  },
  {
   "cell_type": "code",
   "execution_count": 52,
   "id": "9ce19162-e25d-4690-8f03-53d92050f7eb",
   "metadata": {},
   "outputs": [],
   "source": [
    "songs_data_cleaned['tempo_band'] = pd.cut( songs_data_cleaned['tempo'], bins=[0, 60, 120, 180, 240], labels=[1, 2, 3, 4])"
   ]
  },
  {
   "cell_type": "code",
   "execution_count": 53,
   "id": "9f87db11-3265-46eb-82ec-5371a3100822",
   "metadata": {},
   "outputs": [
    {
     "data": {
      "text/plain": [
       "[3, 2, 4, 1]\n",
       "Categories (4, int64): [1 < 2 < 3 < 4]"
      ]
     },
     "execution_count": 53,
     "metadata": {},
     "output_type": "execute_result"
    }
   ],
   "source": [
    "songs_data_cleaned['tempo_band'].unique()"
   ]
  },
  {
   "cell_type": "code",
   "execution_count": 54,
   "id": "fb3bb065-c1fa-4320-b155-d546cefd5d81",
   "metadata": {},
   "outputs": [
    {
     "data": {
      "text/plain": [
       "array([2, 1, 3, 0], dtype=int64)"
      ]
     },
     "execution_count": 54,
     "metadata": {},
     "output_type": "execute_result"
    }
   ],
   "source": [
    "tempo_encoded = preprocessing.LabelEncoder() \n",
    "  \n",
    "# Encode labels in column 'species'. \n",
    "songs_data_cleaned['tempo_band']= tempo_encoded.fit_transform(songs_data_cleaned['tempo_band']) \n",
    "  \n",
    "songs_data_cleaned['tempo_band'].unique() "
   ]
  },
  {
   "cell_type": "code",
   "execution_count": 55,
   "id": "3c925e0d-eef8-41fd-9303-efb97d20796f",
   "metadata": {},
   "outputs": [],
   "source": [
    "songs_data_cleaned['loudness_bin'] = pd.cut( songs_data_cleaned['loudness'], bins=[-60, -30, -10, 0], labels = [1,2,3])"
   ]
  },
  {
   "cell_type": "code",
   "execution_count": 56,
   "id": "fc907bf7-5e53-494c-8fb7-9073ec3b9d98",
   "metadata": {},
   "outputs": [
    {
     "data": {
      "text/plain": [
       "array([2, 1, 3, 0], dtype=int64)"
      ]
     },
     "execution_count": 56,
     "metadata": {},
     "output_type": "execute_result"
    }
   ],
   "source": [
    "loudness_encoded = preprocessing.LabelEncoder() \n",
    "   \n",
    "songs_data_cleaned['loudness_bin']= tempo_encoded.fit_transform(songs_data_cleaned['loudness_bin']) \n",
    "  \n",
    "songs_data_cleaned['loudness_bin'].unique()"
   ]
  },
  {
   "cell_type": "code",
   "execution_count": null,
   "id": "31bcff31-bbdc-4b03-ad92-08283e517d1e",
   "metadata": {},
   "outputs": [],
   "source": []
  },
  {
   "cell_type": "code",
   "execution_count": null,
   "id": "60c5d5fb-5226-4557-830d-0d91b9ebfc37",
   "metadata": {},
   "outputs": [],
   "source": []
  },
  {
   "cell_type": "code",
   "execution_count": 57,
   "id": "44824981-f18e-48d0-a8ac-c67c8cf56706",
   "metadata": {},
   "outputs": [
    {
     "data": {
      "text/html": [
       "<div>\n",
       "<style scoped>\n",
       "    .dataframe tbody tr th:only-of-type {\n",
       "        vertical-align: middle;\n",
       "    }\n",
       "\n",
       "    .dataframe tbody tr th {\n",
       "        vertical-align: top;\n",
       "    }\n",
       "\n",
       "    .dataframe thead th {\n",
       "        text-align: right;\n",
       "    }\n",
       "</style>\n",
       "<table border=\"1\" class=\"dataframe\">\n",
       "  <thead>\n",
       "    <tr style=\"text-align: right;\">\n",
       "      <th></th>\n",
       "      <th>genre</th>\n",
       "      <th>danceability</th>\n",
       "      <th>energy</th>\n",
       "      <th>key</th>\n",
       "      <th>loudness</th>\n",
       "      <th>mode</th>\n",
       "      <th>speechiness</th>\n",
       "      <th>acousticness</th>\n",
       "      <th>instrumentalness</th>\n",
       "      <th>liveness</th>\n",
       "      <th>valence</th>\n",
       "      <th>tempo</th>\n",
       "      <th>danceability_energy</th>\n",
       "      <th>valence_loudness</th>\n",
       "      <th>tempo_band</th>\n",
       "      <th>loudness_bin</th>\n",
       "    </tr>\n",
       "  </thead>\n",
       "  <tbody>\n",
       "    <tr>\n",
       "      <th>0</th>\n",
       "      <td>2</td>\n",
       "      <td>0.748</td>\n",
       "      <td>0.916</td>\n",
       "      <td>6</td>\n",
       "      <td>-2.634</td>\n",
       "      <td>1</td>\n",
       "      <td>0.0583</td>\n",
       "      <td>0.1020</td>\n",
       "      <td>0.000000</td>\n",
       "      <td>0.0653</td>\n",
       "      <td>0.518</td>\n",
       "      <td>122.036</td>\n",
       "      <td>0.816594</td>\n",
       "      <td>-0.196659</td>\n",
       "      <td>2</td>\n",
       "      <td>2</td>\n",
       "    </tr>\n",
       "    <tr>\n",
       "      <th>1</th>\n",
       "      <td>2</td>\n",
       "      <td>0.726</td>\n",
       "      <td>0.815</td>\n",
       "      <td>11</td>\n",
       "      <td>-4.969</td>\n",
       "      <td>1</td>\n",
       "      <td>0.0373</td>\n",
       "      <td>0.0724</td>\n",
       "      <td>0.004210</td>\n",
       "      <td>0.3570</td>\n",
       "      <td>0.693</td>\n",
       "      <td>99.972</td>\n",
       "      <td>0.890798</td>\n",
       "      <td>-0.139465</td>\n",
       "      <td>1</td>\n",
       "      <td>2</td>\n",
       "    </tr>\n",
       "    <tr>\n",
       "      <th>2</th>\n",
       "      <td>2</td>\n",
       "      <td>0.675</td>\n",
       "      <td>0.931</td>\n",
       "      <td>1</td>\n",
       "      <td>-3.432</td>\n",
       "      <td>0</td>\n",
       "      <td>0.0742</td>\n",
       "      <td>0.0794</td>\n",
       "      <td>0.000023</td>\n",
       "      <td>0.1100</td>\n",
       "      <td>0.613</td>\n",
       "      <td>124.008</td>\n",
       "      <td>0.725027</td>\n",
       "      <td>-0.178613</td>\n",
       "      <td>2</td>\n",
       "      <td>2</td>\n",
       "    </tr>\n",
       "    <tr>\n",
       "      <th>3</th>\n",
       "      <td>2</td>\n",
       "      <td>0.718</td>\n",
       "      <td>0.930</td>\n",
       "      <td>7</td>\n",
       "      <td>-3.778</td>\n",
       "      <td>1</td>\n",
       "      <td>0.1020</td>\n",
       "      <td>0.0287</td>\n",
       "      <td>0.000009</td>\n",
       "      <td>0.2040</td>\n",
       "      <td>0.277</td>\n",
       "      <td>121.956</td>\n",
       "      <td>0.772043</td>\n",
       "      <td>-0.073319</td>\n",
       "      <td>2</td>\n",
       "      <td>2</td>\n",
       "    </tr>\n",
       "    <tr>\n",
       "      <th>4</th>\n",
       "      <td>2</td>\n",
       "      <td>0.650</td>\n",
       "      <td>0.833</td>\n",
       "      <td>1</td>\n",
       "      <td>-4.672</td>\n",
       "      <td>1</td>\n",
       "      <td>0.0359</td>\n",
       "      <td>0.0803</td>\n",
       "      <td>0.000000</td>\n",
       "      <td>0.0833</td>\n",
       "      <td>0.725</td>\n",
       "      <td>123.976</td>\n",
       "      <td>0.780312</td>\n",
       "      <td>-0.155180</td>\n",
       "      <td>2</td>\n",
       "      <td>2</td>\n",
       "    </tr>\n",
       "  </tbody>\n",
       "</table>\n",
       "</div>"
      ],
      "text/plain": [
       "   genre  danceability  energy  key  loudness  mode  speechiness  \\\n",
       "0      2         0.748   0.916    6    -2.634     1       0.0583   \n",
       "1      2         0.726   0.815   11    -4.969     1       0.0373   \n",
       "2      2         0.675   0.931    1    -3.432     0       0.0742   \n",
       "3      2         0.718   0.930    7    -3.778     1       0.1020   \n",
       "4      2         0.650   0.833    1    -4.672     1       0.0359   \n",
       "\n",
       "   acousticness  instrumentalness  liveness  valence    tempo  \\\n",
       "0        0.1020          0.000000    0.0653    0.518  122.036   \n",
       "1        0.0724          0.004210    0.3570    0.693   99.972   \n",
       "2        0.0794          0.000023    0.1100    0.613  124.008   \n",
       "3        0.0287          0.000009    0.2040    0.277  121.956   \n",
       "4        0.0803          0.000000    0.0833    0.725  123.976   \n",
       "\n",
       "   danceability_energy  valence_loudness  tempo_band  loudness_bin  \n",
       "0             0.816594         -0.196659           2             2  \n",
       "1             0.890798         -0.139465           1             2  \n",
       "2             0.725027         -0.178613           2             2  \n",
       "3             0.772043         -0.073319           2             2  \n",
       "4             0.780312         -0.155180           2             2  "
      ]
     },
     "execution_count": 57,
     "metadata": {},
     "output_type": "execute_result"
    }
   ],
   "source": [
    "songs_data_cleaned.head()"
   ]
  },
  {
   "cell_type": "markdown",
   "id": "20f2be89-2ce0-4d01-868d-4f0288b49b4e",
   "metadata": {},
   "source": [
    "## Splitting the Data into training and test data sets"
   ]
  },
  {
   "cell_type": "code",
   "execution_count": 58,
   "id": "1584515a-bfa8-4bd0-aa14-84ea02e65586",
   "metadata": {},
   "outputs": [],
   "source": [
    "# define the target and features\n",
    "\n",
    "features = songs_data_cleaned.drop(['genre' ], axis=1)\n",
    "target = songs_data_cleaned['genre']"
   ]
  },
  {
   "cell_type": "code",
   "execution_count": 59,
   "id": "14700474-8607-4404-885a-9fea7f62e734",
   "metadata": {},
   "outputs": [
    {
     "data": {
      "text/html": [
       "<div>\n",
       "<style scoped>\n",
       "    .dataframe tbody tr th:only-of-type {\n",
       "        vertical-align: middle;\n",
       "    }\n",
       "\n",
       "    .dataframe tbody tr th {\n",
       "        vertical-align: top;\n",
       "    }\n",
       "\n",
       "    .dataframe thead th {\n",
       "        text-align: right;\n",
       "    }\n",
       "</style>\n",
       "<table border=\"1\" class=\"dataframe\">\n",
       "  <thead>\n",
       "    <tr style=\"text-align: right;\">\n",
       "      <th></th>\n",
       "      <th>danceability</th>\n",
       "      <th>energy</th>\n",
       "      <th>key</th>\n",
       "      <th>loudness</th>\n",
       "      <th>mode</th>\n",
       "      <th>speechiness</th>\n",
       "      <th>acousticness</th>\n",
       "      <th>instrumentalness</th>\n",
       "      <th>liveness</th>\n",
       "      <th>valence</th>\n",
       "      <th>tempo</th>\n",
       "      <th>danceability_energy</th>\n",
       "      <th>valence_loudness</th>\n",
       "      <th>tempo_band</th>\n",
       "      <th>loudness_bin</th>\n",
       "    </tr>\n",
       "  </thead>\n",
       "  <tbody>\n",
       "    <tr>\n",
       "      <th>0</th>\n",
       "      <td>0.748</td>\n",
       "      <td>0.916</td>\n",
       "      <td>6</td>\n",
       "      <td>-2.634</td>\n",
       "      <td>1</td>\n",
       "      <td>0.0583</td>\n",
       "      <td>0.1020</td>\n",
       "      <td>0.000000</td>\n",
       "      <td>0.0653</td>\n",
       "      <td>0.518</td>\n",
       "      <td>122.036</td>\n",
       "      <td>0.816594</td>\n",
       "      <td>-0.196659</td>\n",
       "      <td>2</td>\n",
       "      <td>2</td>\n",
       "    </tr>\n",
       "    <tr>\n",
       "      <th>1</th>\n",
       "      <td>0.726</td>\n",
       "      <td>0.815</td>\n",
       "      <td>11</td>\n",
       "      <td>-4.969</td>\n",
       "      <td>1</td>\n",
       "      <td>0.0373</td>\n",
       "      <td>0.0724</td>\n",
       "      <td>0.004210</td>\n",
       "      <td>0.3570</td>\n",
       "      <td>0.693</td>\n",
       "      <td>99.972</td>\n",
       "      <td>0.890798</td>\n",
       "      <td>-0.139465</td>\n",
       "      <td>1</td>\n",
       "      <td>2</td>\n",
       "    </tr>\n",
       "    <tr>\n",
       "      <th>2</th>\n",
       "      <td>0.675</td>\n",
       "      <td>0.931</td>\n",
       "      <td>1</td>\n",
       "      <td>-3.432</td>\n",
       "      <td>0</td>\n",
       "      <td>0.0742</td>\n",
       "      <td>0.0794</td>\n",
       "      <td>0.000023</td>\n",
       "      <td>0.1100</td>\n",
       "      <td>0.613</td>\n",
       "      <td>124.008</td>\n",
       "      <td>0.725027</td>\n",
       "      <td>-0.178613</td>\n",
       "      <td>2</td>\n",
       "      <td>2</td>\n",
       "    </tr>\n",
       "    <tr>\n",
       "      <th>3</th>\n",
       "      <td>0.718</td>\n",
       "      <td>0.930</td>\n",
       "      <td>7</td>\n",
       "      <td>-3.778</td>\n",
       "      <td>1</td>\n",
       "      <td>0.1020</td>\n",
       "      <td>0.0287</td>\n",
       "      <td>0.000009</td>\n",
       "      <td>0.2040</td>\n",
       "      <td>0.277</td>\n",
       "      <td>121.956</td>\n",
       "      <td>0.772043</td>\n",
       "      <td>-0.073319</td>\n",
       "      <td>2</td>\n",
       "      <td>2</td>\n",
       "    </tr>\n",
       "    <tr>\n",
       "      <th>4</th>\n",
       "      <td>0.650</td>\n",
       "      <td>0.833</td>\n",
       "      <td>1</td>\n",
       "      <td>-4.672</td>\n",
       "      <td>1</td>\n",
       "      <td>0.0359</td>\n",
       "      <td>0.0803</td>\n",
       "      <td>0.000000</td>\n",
       "      <td>0.0833</td>\n",
       "      <td>0.725</td>\n",
       "      <td>123.976</td>\n",
       "      <td>0.780312</td>\n",
       "      <td>-0.155180</td>\n",
       "      <td>2</td>\n",
       "      <td>2</td>\n",
       "    </tr>\n",
       "  </tbody>\n",
       "</table>\n",
       "</div>"
      ],
      "text/plain": [
       "   danceability  energy  key  loudness  mode  speechiness  acousticness  \\\n",
       "0         0.748   0.916    6    -2.634     1       0.0583        0.1020   \n",
       "1         0.726   0.815   11    -4.969     1       0.0373        0.0724   \n",
       "2         0.675   0.931    1    -3.432     0       0.0742        0.0794   \n",
       "3         0.718   0.930    7    -3.778     1       0.1020        0.0287   \n",
       "4         0.650   0.833    1    -4.672     1       0.0359        0.0803   \n",
       "\n",
       "   instrumentalness  liveness  valence    tempo  danceability_energy  \\\n",
       "0          0.000000    0.0653    0.518  122.036             0.816594   \n",
       "1          0.004210    0.3570    0.693   99.972             0.890798   \n",
       "2          0.000023    0.1100    0.613  124.008             0.725027   \n",
       "3          0.000009    0.2040    0.277  121.956             0.772043   \n",
       "4          0.000000    0.0833    0.725  123.976             0.780312   \n",
       "\n",
       "   valence_loudness  tempo_band  loudness_bin  \n",
       "0         -0.196659           2             2  \n",
       "1         -0.139465           1             2  \n",
       "2         -0.178613           2             2  \n",
       "3         -0.073319           2             2  \n",
       "4         -0.155180           2             2  "
      ]
     },
     "execution_count": 59,
     "metadata": {},
     "output_type": "execute_result"
    }
   ],
   "source": [
    "features.head()"
   ]
  },
  {
   "cell_type": "code",
   "execution_count": 60,
   "id": "3db53456-80d7-418f-9557-3109eaee949d",
   "metadata": {},
   "outputs": [
    {
     "data": {
      "text/plain": [
       "(32615, 15)"
      ]
     },
     "execution_count": 60,
     "metadata": {},
     "output_type": "execute_result"
    }
   ],
   "source": [
    "features.shape"
   ]
  },
  {
   "cell_type": "code",
   "execution_count": 61,
   "id": "b31695c9-56cb-4390-aee4-77974d37b3e6",
   "metadata": {},
   "outputs": [
    {
     "data": {
      "text/plain": [
       "0    2\n",
       "1    2\n",
       "2    2\n",
       "3    2\n",
       "4    2\n",
       "Name: genre, dtype: int32"
      ]
     },
     "execution_count": 61,
     "metadata": {},
     "output_type": "execute_result"
    }
   ],
   "source": [
    "target.head()"
   ]
  },
  {
   "cell_type": "code",
   "execution_count": 62,
   "id": "59034299-300a-47af-8728-d9ed7a686299",
   "metadata": {},
   "outputs": [
    {
     "data": {
      "text/plain": [
       "(32615,)"
      ]
     },
     "execution_count": 62,
     "metadata": {},
     "output_type": "execute_result"
    }
   ],
   "source": [
    "target.shape"
   ]
  },
  {
   "cell_type": "code",
   "execution_count": 63,
   "id": "6d64e13a-7b18-4a2d-9561-3e096cfeb57c",
   "metadata": {},
   "outputs": [],
   "source": [
    "from sklearn.model_selection import train_test_split\n",
    "\n",
    "X_train, X_test, y_train, y_test = train_test_split(features, \n",
    "                                                    target,\n",
    "                                                    test_size=0.2,\n",
    "                                                    random_state=8888)\n",
    "\n",
    "# Reference: https://scikit-learn.org/stable/modules/generated/sklearn.model_selection.train_test_split.html"
   ]
  },
  {
   "cell_type": "code",
   "execution_count": 64,
   "id": "6228afe2-6b6e-4d2c-a3e3-1f5dccf86984",
   "metadata": {},
   "outputs": [
    {
     "data": {
      "text/plain": [
       "(26092, 15)"
      ]
     },
     "execution_count": 64,
     "metadata": {},
     "output_type": "execute_result"
    }
   ],
   "source": [
    "X_train.shape"
   ]
  },
  {
   "cell_type": "code",
   "execution_count": 65,
   "id": "3a8edf2d-0089-41fb-9b4e-4360e084fb0b",
   "metadata": {},
   "outputs": [
    {
     "data": {
      "text/plain": [
       "(6523, 15)"
      ]
     },
     "execution_count": 65,
     "metadata": {},
     "output_type": "execute_result"
    }
   ],
   "source": [
    "X_test.shape"
   ]
  },
  {
   "cell_type": "markdown",
   "id": "6bc50e6a-f2c3-41a1-b122-989a57fa87b1",
   "metadata": {},
   "source": [
    "# 3. Developing the Machine Learning Model"
   ]
  },
  {
   "cell_type": "markdown",
   "id": "8f9c88d8-410a-4f41-8983-5e5b53ad8c76",
   "metadata": {},
   "source": [
    "## 1st approach"
   ]
  },
  {
   "cell_type": "code",
   "execution_count": 66,
   "id": "47778d1d-a8a9-4a10-991b-f71a90448854",
   "metadata": {},
   "outputs": [],
   "source": [
    "# starting with the existing features and evaluating the models performance to decide if additional feature engineering is necessary"
   ]
  },
  {
   "cell_type": "code",
   "execution_count": 67,
   "id": "c7dd595e-afce-4c26-b0d1-be621dd55a5e",
   "metadata": {},
   "outputs": [],
   "source": [
    "from sklearn.ensemble import RandomForestClassifier\n",
    "\n",
    "aal_rf = RandomForestClassifier()"
   ]
  },
  {
   "cell_type": "code",
   "execution_count": 68,
   "id": "af5c7912-b557-47d6-b3d9-cce59270a881",
   "metadata": {},
   "outputs": [
    {
     "data": {
      "text/html": [
       "<style>#sk-container-id-1 {\n",
       "  /* Definition of color scheme common for light and dark mode */\n",
       "  --sklearn-color-text: black;\n",
       "  --sklearn-color-line: gray;\n",
       "  /* Definition of color scheme for unfitted estimators */\n",
       "  --sklearn-color-unfitted-level-0: #fff5e6;\n",
       "  --sklearn-color-unfitted-level-1: #f6e4d2;\n",
       "  --sklearn-color-unfitted-level-2: #ffe0b3;\n",
       "  --sklearn-color-unfitted-level-3: chocolate;\n",
       "  /* Definition of color scheme for fitted estimators */\n",
       "  --sklearn-color-fitted-level-0: #f0f8ff;\n",
       "  --sklearn-color-fitted-level-1: #d4ebff;\n",
       "  --sklearn-color-fitted-level-2: #b3dbfd;\n",
       "  --sklearn-color-fitted-level-3: cornflowerblue;\n",
       "\n",
       "  /* Specific color for light theme */\n",
       "  --sklearn-color-text-on-default-background: var(--sg-text-color, var(--theme-code-foreground, var(--jp-content-font-color1, black)));\n",
       "  --sklearn-color-background: var(--sg-background-color, var(--theme-background, var(--jp-layout-color0, white)));\n",
       "  --sklearn-color-border-box: var(--sg-text-color, var(--theme-code-foreground, var(--jp-content-font-color1, black)));\n",
       "  --sklearn-color-icon: #696969;\n",
       "\n",
       "  @media (prefers-color-scheme: dark) {\n",
       "    /* Redefinition of color scheme for dark theme */\n",
       "    --sklearn-color-text-on-default-background: var(--sg-text-color, var(--theme-code-foreground, var(--jp-content-font-color1, white)));\n",
       "    --sklearn-color-background: var(--sg-background-color, var(--theme-background, var(--jp-layout-color0, #111)));\n",
       "    --sklearn-color-border-box: var(--sg-text-color, var(--theme-code-foreground, var(--jp-content-font-color1, white)));\n",
       "    --sklearn-color-icon: #878787;\n",
       "  }\n",
       "}\n",
       "\n",
       "#sk-container-id-1 {\n",
       "  color: var(--sklearn-color-text);\n",
       "}\n",
       "\n",
       "#sk-container-id-1 pre {\n",
       "  padding: 0;\n",
       "}\n",
       "\n",
       "#sk-container-id-1 input.sk-hidden--visually {\n",
       "  border: 0;\n",
       "  clip: rect(1px 1px 1px 1px);\n",
       "  clip: rect(1px, 1px, 1px, 1px);\n",
       "  height: 1px;\n",
       "  margin: -1px;\n",
       "  overflow: hidden;\n",
       "  padding: 0;\n",
       "  position: absolute;\n",
       "  width: 1px;\n",
       "}\n",
       "\n",
       "#sk-container-id-1 div.sk-dashed-wrapped {\n",
       "  border: 1px dashed var(--sklearn-color-line);\n",
       "  margin: 0 0.4em 0.5em 0.4em;\n",
       "  box-sizing: border-box;\n",
       "  padding-bottom: 0.4em;\n",
       "  background-color: var(--sklearn-color-background);\n",
       "}\n",
       "\n",
       "#sk-container-id-1 div.sk-container {\n",
       "  /* jupyter's `normalize.less` sets `[hidden] { display: none; }`\n",
       "     but bootstrap.min.css set `[hidden] { display: none !important; }`\n",
       "     so we also need the `!important` here to be able to override the\n",
       "     default hidden behavior on the sphinx rendered scikit-learn.org.\n",
       "     See: https://github.com/scikit-learn/scikit-learn/issues/21755 */\n",
       "  display: inline-block !important;\n",
       "  position: relative;\n",
       "}\n",
       "\n",
       "#sk-container-id-1 div.sk-text-repr-fallback {\n",
       "  display: none;\n",
       "}\n",
       "\n",
       "div.sk-parallel-item,\n",
       "div.sk-serial,\n",
       "div.sk-item {\n",
       "  /* draw centered vertical line to link estimators */\n",
       "  background-image: linear-gradient(var(--sklearn-color-text-on-default-background), var(--sklearn-color-text-on-default-background));\n",
       "  background-size: 2px 100%;\n",
       "  background-repeat: no-repeat;\n",
       "  background-position: center center;\n",
       "}\n",
       "\n",
       "/* Parallel-specific style estimator block */\n",
       "\n",
       "#sk-container-id-1 div.sk-parallel-item::after {\n",
       "  content: \"\";\n",
       "  width: 100%;\n",
       "  border-bottom: 2px solid var(--sklearn-color-text-on-default-background);\n",
       "  flex-grow: 1;\n",
       "}\n",
       "\n",
       "#sk-container-id-1 div.sk-parallel {\n",
       "  display: flex;\n",
       "  align-items: stretch;\n",
       "  justify-content: center;\n",
       "  background-color: var(--sklearn-color-background);\n",
       "  position: relative;\n",
       "}\n",
       "\n",
       "#sk-container-id-1 div.sk-parallel-item {\n",
       "  display: flex;\n",
       "  flex-direction: column;\n",
       "}\n",
       "\n",
       "#sk-container-id-1 div.sk-parallel-item:first-child::after {\n",
       "  align-self: flex-end;\n",
       "  width: 50%;\n",
       "}\n",
       "\n",
       "#sk-container-id-1 div.sk-parallel-item:last-child::after {\n",
       "  align-self: flex-start;\n",
       "  width: 50%;\n",
       "}\n",
       "\n",
       "#sk-container-id-1 div.sk-parallel-item:only-child::after {\n",
       "  width: 0;\n",
       "}\n",
       "\n",
       "/* Serial-specific style estimator block */\n",
       "\n",
       "#sk-container-id-1 div.sk-serial {\n",
       "  display: flex;\n",
       "  flex-direction: column;\n",
       "  align-items: center;\n",
       "  background-color: var(--sklearn-color-background);\n",
       "  padding-right: 1em;\n",
       "  padding-left: 1em;\n",
       "}\n",
       "\n",
       "\n",
       "/* Toggleable style: style used for estimator/Pipeline/ColumnTransformer box that is\n",
       "clickable and can be expanded/collapsed.\n",
       "- Pipeline and ColumnTransformer use this feature and define the default style\n",
       "- Estimators will overwrite some part of the style using the `sk-estimator` class\n",
       "*/\n",
       "\n",
       "/* Pipeline and ColumnTransformer style (default) */\n",
       "\n",
       "#sk-container-id-1 div.sk-toggleable {\n",
       "  /* Default theme specific background. It is overwritten whether we have a\n",
       "  specific estimator or a Pipeline/ColumnTransformer */\n",
       "  background-color: var(--sklearn-color-background);\n",
       "}\n",
       "\n",
       "/* Toggleable label */\n",
       "#sk-container-id-1 label.sk-toggleable__label {\n",
       "  cursor: pointer;\n",
       "  display: block;\n",
       "  width: 100%;\n",
       "  margin-bottom: 0;\n",
       "  padding: 0.5em;\n",
       "  box-sizing: border-box;\n",
       "  text-align: center;\n",
       "}\n",
       "\n",
       "#sk-container-id-1 label.sk-toggleable__label-arrow:before {\n",
       "  /* Arrow on the left of the label */\n",
       "  content: \"▸\";\n",
       "  float: left;\n",
       "  margin-right: 0.25em;\n",
       "  color: var(--sklearn-color-icon);\n",
       "}\n",
       "\n",
       "#sk-container-id-1 label.sk-toggleable__label-arrow:hover:before {\n",
       "  color: var(--sklearn-color-text);\n",
       "}\n",
       "\n",
       "/* Toggleable content - dropdown */\n",
       "\n",
       "#sk-container-id-1 div.sk-toggleable__content {\n",
       "  max-height: 0;\n",
       "  max-width: 0;\n",
       "  overflow: hidden;\n",
       "  text-align: left;\n",
       "  /* unfitted */\n",
       "  background-color: var(--sklearn-color-unfitted-level-0);\n",
       "}\n",
       "\n",
       "#sk-container-id-1 div.sk-toggleable__content.fitted {\n",
       "  /* fitted */\n",
       "  background-color: var(--sklearn-color-fitted-level-0);\n",
       "}\n",
       "\n",
       "#sk-container-id-1 div.sk-toggleable__content pre {\n",
       "  margin: 0.2em;\n",
       "  border-radius: 0.25em;\n",
       "  color: var(--sklearn-color-text);\n",
       "  /* unfitted */\n",
       "  background-color: var(--sklearn-color-unfitted-level-0);\n",
       "}\n",
       "\n",
       "#sk-container-id-1 div.sk-toggleable__content.fitted pre {\n",
       "  /* unfitted */\n",
       "  background-color: var(--sklearn-color-fitted-level-0);\n",
       "}\n",
       "\n",
       "#sk-container-id-1 input.sk-toggleable__control:checked~div.sk-toggleable__content {\n",
       "  /* Expand drop-down */\n",
       "  max-height: 200px;\n",
       "  max-width: 100%;\n",
       "  overflow: auto;\n",
       "}\n",
       "\n",
       "#sk-container-id-1 input.sk-toggleable__control:checked~label.sk-toggleable__label-arrow:before {\n",
       "  content: \"▾\";\n",
       "}\n",
       "\n",
       "/* Pipeline/ColumnTransformer-specific style */\n",
       "\n",
       "#sk-container-id-1 div.sk-label input.sk-toggleable__control:checked~label.sk-toggleable__label {\n",
       "  color: var(--sklearn-color-text);\n",
       "  background-color: var(--sklearn-color-unfitted-level-2);\n",
       "}\n",
       "\n",
       "#sk-container-id-1 div.sk-label.fitted input.sk-toggleable__control:checked~label.sk-toggleable__label {\n",
       "  background-color: var(--sklearn-color-fitted-level-2);\n",
       "}\n",
       "\n",
       "/* Estimator-specific style */\n",
       "\n",
       "/* Colorize estimator box */\n",
       "#sk-container-id-1 div.sk-estimator input.sk-toggleable__control:checked~label.sk-toggleable__label {\n",
       "  /* unfitted */\n",
       "  background-color: var(--sklearn-color-unfitted-level-2);\n",
       "}\n",
       "\n",
       "#sk-container-id-1 div.sk-estimator.fitted input.sk-toggleable__control:checked~label.sk-toggleable__label {\n",
       "  /* fitted */\n",
       "  background-color: var(--sklearn-color-fitted-level-2);\n",
       "}\n",
       "\n",
       "#sk-container-id-1 div.sk-label label.sk-toggleable__label,\n",
       "#sk-container-id-1 div.sk-label label {\n",
       "  /* The background is the default theme color */\n",
       "  color: var(--sklearn-color-text-on-default-background);\n",
       "}\n",
       "\n",
       "/* On hover, darken the color of the background */\n",
       "#sk-container-id-1 div.sk-label:hover label.sk-toggleable__label {\n",
       "  color: var(--sklearn-color-text);\n",
       "  background-color: var(--sklearn-color-unfitted-level-2);\n",
       "}\n",
       "\n",
       "/* Label box, darken color on hover, fitted */\n",
       "#sk-container-id-1 div.sk-label.fitted:hover label.sk-toggleable__label.fitted {\n",
       "  color: var(--sklearn-color-text);\n",
       "  background-color: var(--sklearn-color-fitted-level-2);\n",
       "}\n",
       "\n",
       "/* Estimator label */\n",
       "\n",
       "#sk-container-id-1 div.sk-label label {\n",
       "  font-family: monospace;\n",
       "  font-weight: bold;\n",
       "  display: inline-block;\n",
       "  line-height: 1.2em;\n",
       "}\n",
       "\n",
       "#sk-container-id-1 div.sk-label-container {\n",
       "  text-align: center;\n",
       "}\n",
       "\n",
       "/* Estimator-specific */\n",
       "#sk-container-id-1 div.sk-estimator {\n",
       "  font-family: monospace;\n",
       "  border: 1px dotted var(--sklearn-color-border-box);\n",
       "  border-radius: 0.25em;\n",
       "  box-sizing: border-box;\n",
       "  margin-bottom: 0.5em;\n",
       "  /* unfitted */\n",
       "  background-color: var(--sklearn-color-unfitted-level-0);\n",
       "}\n",
       "\n",
       "#sk-container-id-1 div.sk-estimator.fitted {\n",
       "  /* fitted */\n",
       "  background-color: var(--sklearn-color-fitted-level-0);\n",
       "}\n",
       "\n",
       "/* on hover */\n",
       "#sk-container-id-1 div.sk-estimator:hover {\n",
       "  /* unfitted */\n",
       "  background-color: var(--sklearn-color-unfitted-level-2);\n",
       "}\n",
       "\n",
       "#sk-container-id-1 div.sk-estimator.fitted:hover {\n",
       "  /* fitted */\n",
       "  background-color: var(--sklearn-color-fitted-level-2);\n",
       "}\n",
       "\n",
       "/* Specification for estimator info (e.g. \"i\" and \"?\") */\n",
       "\n",
       "/* Common style for \"i\" and \"?\" */\n",
       "\n",
       ".sk-estimator-doc-link,\n",
       "a:link.sk-estimator-doc-link,\n",
       "a:visited.sk-estimator-doc-link {\n",
       "  float: right;\n",
       "  font-size: smaller;\n",
       "  line-height: 1em;\n",
       "  font-family: monospace;\n",
       "  background-color: var(--sklearn-color-background);\n",
       "  border-radius: 1em;\n",
       "  height: 1em;\n",
       "  width: 1em;\n",
       "  text-decoration: none !important;\n",
       "  margin-left: 1ex;\n",
       "  /* unfitted */\n",
       "  border: var(--sklearn-color-unfitted-level-1) 1pt solid;\n",
       "  color: var(--sklearn-color-unfitted-level-1);\n",
       "}\n",
       "\n",
       ".sk-estimator-doc-link.fitted,\n",
       "a:link.sk-estimator-doc-link.fitted,\n",
       "a:visited.sk-estimator-doc-link.fitted {\n",
       "  /* fitted */\n",
       "  border: var(--sklearn-color-fitted-level-1) 1pt solid;\n",
       "  color: var(--sklearn-color-fitted-level-1);\n",
       "}\n",
       "\n",
       "/* On hover */\n",
       "div.sk-estimator:hover .sk-estimator-doc-link:hover,\n",
       ".sk-estimator-doc-link:hover,\n",
       "div.sk-label-container:hover .sk-estimator-doc-link:hover,\n",
       ".sk-estimator-doc-link:hover {\n",
       "  /* unfitted */\n",
       "  background-color: var(--sklearn-color-unfitted-level-3);\n",
       "  color: var(--sklearn-color-background);\n",
       "  text-decoration: none;\n",
       "}\n",
       "\n",
       "div.sk-estimator.fitted:hover .sk-estimator-doc-link.fitted:hover,\n",
       ".sk-estimator-doc-link.fitted:hover,\n",
       "div.sk-label-container:hover .sk-estimator-doc-link.fitted:hover,\n",
       ".sk-estimator-doc-link.fitted:hover {\n",
       "  /* fitted */\n",
       "  background-color: var(--sklearn-color-fitted-level-3);\n",
       "  color: var(--sklearn-color-background);\n",
       "  text-decoration: none;\n",
       "}\n",
       "\n",
       "/* Span, style for the box shown on hovering the info icon */\n",
       ".sk-estimator-doc-link span {\n",
       "  display: none;\n",
       "  z-index: 9999;\n",
       "  position: relative;\n",
       "  font-weight: normal;\n",
       "  right: .2ex;\n",
       "  padding: .5ex;\n",
       "  margin: .5ex;\n",
       "  width: min-content;\n",
       "  min-width: 20ex;\n",
       "  max-width: 50ex;\n",
       "  color: var(--sklearn-color-text);\n",
       "  box-shadow: 2pt 2pt 4pt #999;\n",
       "  /* unfitted */\n",
       "  background: var(--sklearn-color-unfitted-level-0);\n",
       "  border: .5pt solid var(--sklearn-color-unfitted-level-3);\n",
       "}\n",
       "\n",
       ".sk-estimator-doc-link.fitted span {\n",
       "  /* fitted */\n",
       "  background: var(--sklearn-color-fitted-level-0);\n",
       "  border: var(--sklearn-color-fitted-level-3);\n",
       "}\n",
       "\n",
       ".sk-estimator-doc-link:hover span {\n",
       "  display: block;\n",
       "}\n",
       "\n",
       "/* \"?\"-specific style due to the `<a>` HTML tag */\n",
       "\n",
       "#sk-container-id-1 a.estimator_doc_link {\n",
       "  float: right;\n",
       "  font-size: 1rem;\n",
       "  line-height: 1em;\n",
       "  font-family: monospace;\n",
       "  background-color: var(--sklearn-color-background);\n",
       "  border-radius: 1rem;\n",
       "  height: 1rem;\n",
       "  width: 1rem;\n",
       "  text-decoration: none;\n",
       "  /* unfitted */\n",
       "  color: var(--sklearn-color-unfitted-level-1);\n",
       "  border: var(--sklearn-color-unfitted-level-1) 1pt solid;\n",
       "}\n",
       "\n",
       "#sk-container-id-1 a.estimator_doc_link.fitted {\n",
       "  /* fitted */\n",
       "  border: var(--sklearn-color-fitted-level-1) 1pt solid;\n",
       "  color: var(--sklearn-color-fitted-level-1);\n",
       "}\n",
       "\n",
       "/* On hover */\n",
       "#sk-container-id-1 a.estimator_doc_link:hover {\n",
       "  /* unfitted */\n",
       "  background-color: var(--sklearn-color-unfitted-level-3);\n",
       "  color: var(--sklearn-color-background);\n",
       "  text-decoration: none;\n",
       "}\n",
       "\n",
       "#sk-container-id-1 a.estimator_doc_link.fitted:hover {\n",
       "  /* fitted */\n",
       "  background-color: var(--sklearn-color-fitted-level-3);\n",
       "}\n",
       "</style><div id=\"sk-container-id-1\" class=\"sk-top-container\"><div class=\"sk-text-repr-fallback\"><pre>RandomForestClassifier()</pre><b>In a Jupyter environment, please rerun this cell to show the HTML representation or trust the notebook. <br />On GitHub, the HTML representation is unable to render, please try loading this page with nbviewer.org.</b></div><div class=\"sk-container\" hidden><div class=\"sk-item\"><div class=\"sk-estimator fitted sk-toggleable\"><input class=\"sk-toggleable__control sk-hidden--visually\" id=\"sk-estimator-id-1\" type=\"checkbox\" checked><label for=\"sk-estimator-id-1\" class=\"sk-toggleable__label fitted sk-toggleable__label-arrow fitted\">&nbsp;&nbsp;RandomForestClassifier<a class=\"sk-estimator-doc-link fitted\" rel=\"noreferrer\" target=\"_blank\" href=\"https://scikit-learn.org/1.4/modules/generated/sklearn.ensemble.RandomForestClassifier.html\">?<span>Documentation for RandomForestClassifier</span></a><span class=\"sk-estimator-doc-link fitted\">i<span>Fitted</span></span></label><div class=\"sk-toggleable__content fitted\"><pre>RandomForestClassifier()</pre></div> </div></div></div></div>"
      ],
      "text/plain": [
       "RandomForestClassifier()"
      ]
     },
     "execution_count": 68,
     "metadata": {},
     "output_type": "execute_result"
    }
   ],
   "source": [
    "aal_rf.fit(X_train, y_train)"
   ]
  },
  {
   "cell_type": "code",
   "execution_count": 69,
   "id": "4a913cb1-02fd-46ff-90fd-44cd904e2925",
   "metadata": {},
   "outputs": [],
   "source": [
    "y_pred_rf = aal_rf.predict(X_test)"
   ]
  },
  {
   "cell_type": "code",
   "execution_count": 70,
   "id": "1fe093d7-ecc6-49be-b994-c0325d2f94de",
   "metadata": {},
   "outputs": [
    {
     "data": {
      "image/png": "[encoded data removed]",
      "text/plain": [
       "<Figure size 640x480 with 2 Axes>"
      ]
     },
     "metadata": {},
     "output_type": "display_data"
    }
   ],
   "source": [
    "from sklearn.metrics import confusion_matrix, ConfusionMatrixDisplay\n",
    "\n",
    "# plot confusion matrix\n",
    "\n",
    "cm = confusion_matrix(y_test, y_pred_rf)\n",
    "disp = ConfusionMatrixDisplay(confusion_matrix=cm,\n",
    "                               display_labels=aal_rf.classes_)\n",
    "\n",
    "disp.plot();"
   ]
  },
  {
   "cell_type": "code",
   "execution_count": 71,
   "id": "355f5171-6e03-4cc1-ab8a-1dca6222b9d6",
   "metadata": {},
   "outputs": [],
   "source": [
    "# accuracy for whole algorithm"
   ]
  },
  {
   "cell_type": "code",
   "execution_count": 72,
   "id": "6041e011-2935-461f-b5de-ce0df7b5795d",
   "metadata": {},
   "outputs": [
    {
     "data": {
      "text/plain": [
       "0.5491338341254024"
      ]
     },
     "execution_count": 72,
     "metadata": {},
     "output_type": "execute_result"
    }
   ],
   "source": [
    "from sklearn.metrics import accuracy_score\n",
    "\n",
    "accuracy_score(y_test, y_pred_rf)"
   ]
  },
  {
   "cell_type": "code",
   "execution_count": 73,
   "id": "7a88fd54-d287-4a5f-b405-e72641fad9be",
   "metadata": {},
   "outputs": [],
   "source": [
    "# Precision of the individual genre classifications"
   ]
  },
  {
   "cell_type": "code",
   "execution_count": 74,
   "id": "c22f7432-5d17-499e-b7bb-aa8cd533792d",
   "metadata": {},
   "outputs": [
    {
     "name": "stdout",
     "output_type": "stream",
     "text": [
      "0.6582174979558463\n",
      "0.4797136038186158\n",
      "0.37658227848101267\n",
      "0.4701492537313433\n",
      "0.5960061443932412\n",
      "0.6473684210526316\n"
     ]
    }
   ],
   "source": [
    "# reference: https://www.geeksforgeeks.org/machine-learning-model-evaluation/?ref=gcse_outind\n",
    "\n",
    "from sklearn.metrics import precision_score\n",
    "# Calculate precision for genres\n",
    "# edm \n",
    "precision_genre_0 = precision_score(y_test, y_pred_rf, labels=[0], average='weighted')\n",
    "print(precision_genre_0)\n",
    "# latin\n",
    "precision_genre_1 = precision_score(y_test, y_pred_rf, labels=[1], average='weighted')\n",
    "print(precision_genre_1)\n",
    "# pop\n",
    "precision_genre_2 = precision_score(y_test, y_pred_rf, labels=[2], average='weighted')\n",
    "print(precision_genre_2)\n",
    "# r&b\n",
    "precision_genre_3 = precision_score(y_test, y_pred_rf, labels=[3], average='weighted')\n",
    "print(precision_genre_3)\n",
    "# rap\n",
    "precision_genre_4 = precision_score(y_test, y_pred_rf, labels=[4], average='weighted')\n",
    "print(precision_genre_4)\n",
    "# rock\n",
    "precision_genre_5 = precision_score(y_test, y_pred_rf, labels=[5], average='weighted')\n",
    "print(precision_genre_5)"
   ]
  },
  {
   "cell_type": "code",
   "execution_count": 75,
   "id": "2fa3cffb-5176-4b92-8515-10884c70bf8e",
   "metadata": {},
   "outputs": [],
   "source": [
    "# we need to further distinguish the genres latin, pop and r&b \n",
    "# genres like rock and edm are more different and more easily distinguishable for the algorithm"
   ]
  },
  {
   "cell_type": "code",
   "execution_count": 76,
   "id": "11e6cfdd-aa90-443f-a516-7db22cb0fe31",
   "metadata": {},
   "outputs": [],
   "source": [
    "import pandas as pd\n",
    "import matplotlib.pyplot as plt\n",
    "\n",
    "def feature_importance_plot(model, X_train, n):\n",
    "    \"\"\"Plots feature importance - this only works for Random Forest and XGBoost Models\n",
    "\n",
    "    @param model - the trained model\n",
    "    @param X_train dataframe - the training dataset\n",
    "    @param n int - the number of features we are interested in plotting\n",
    "    \n",
    "    @return a plot with the Top n features\n",
    "    \"\"\"\n",
    "    \n",
    "    plt.figure(figsize=(8, 5)) # set figure size\n",
    "    feat_importances = pd.Series(model.feature_importances_,\n",
    "                                 index = X_train.columns)\n",
    "    feat_importances.nlargest(n).plot(kind = 'bar')\n",
    "    plt.title(f\"Top {n} Features\")\n",
    "    plt.show()"
   ]
  },
  {
   "cell_type": "code",
   "execution_count": 77,
   "id": "eb3c796a-f238-4820-bb26-c5b26fc31a51",
   "metadata": {},
   "outputs": [
    {
     "data": {
      "image/png": "[encoded data removed]",
      "text/plain": [
       "<Figure size 800x500 with 1 Axes>"
      ]
     },
     "metadata": {},
     "output_type": "display_data"
    }
   ],
   "source": [
    "feature_importance_plot(aal_rf, X_train, n = 10)"
   ]
  },
  {
   "cell_type": "code",
   "execution_count": 78,
   "id": "345681a0-dcac-4d19-b079-649f730f9dca",
   "metadata": {},
   "outputs": [],
   "source": [
    "import numpy as np\n",
    "import matplotlib.pyplot as plt\n",
    "from sklearn.model_selection import learning_curve, cross_val_score\n",
    "\n",
    "\n",
    "def learning_curve_plot(model, X_train, y_train, scoring):\n",
    "    \"\"\"Plots learning curves for model validation\n",
    "    \n",
    "    @param models - list of models we are interested in evaluating\n",
    "    @param X_train - the training features\n",
    "    @param y_train - the target\n",
    "    \n",
    "    @returns a plot of the learning curve\n",
    "    \"\"\"\n",
    "    \n",
    "    plt.figure(figsize=(5, 5)) # set figure size\n",
    "    train_sizes, train_scores, test_scores = learning_curve(\n",
    "        model,\n",
    "        X_train,\n",
    "        y_train,\n",
    "        # Number of folds in cross-validation\n",
    "        cv = 5,\n",
    "        # Evaluation metric\n",
    "        scoring = scoring,\n",
    "        # Use all computer cores\n",
    "        n_jobs = -1,\n",
    "        shuffle = True,\n",
    "        # 5 different sizes of the training set\n",
    "        train_sizes = np.linspace(0.01, 1.0, 5))\n",
    "\n",
    "    # Create means and standard deviations of training set scores\n",
    "    train_mean = np.mean(train_scores, axis = 1)\n",
    "    train_std = np.std(train_scores, axis = 1)\n",
    "\n",
    "    # Create means and standard deviations of test set scores\n",
    "    test_mean = np.mean(test_scores, axis = 1)\n",
    "    test_std = np.std(test_scores, axis = 1)\n",
    "\n",
    "    # Draw lines\n",
    "    plt.plot(train_sizes, train_mean, '--', color = \"#111111\", label = \"Training score\")\n",
    "    plt.plot(train_sizes, test_mean, color = \"#111111\", label = \"Cross-validation score\")\n",
    "\n",
    "    # Draw bands\n",
    "    # plt.fill_between(train_sizes, train_mean - train_std, train_mean + train_std, color = \"#DDDDDD\")\n",
    "    # plt.fill_between(train_sizes, test_mean - test_std, test_mean + test_std, color = \"#DDDDDD\")\n",
    "\n",
    "    # Create plot\n",
    "    plt.title(\"Learning Curves\")\n",
    "    plt.xlabel(\"Training Set Size\"), plt.ylabel(\"Error\"), plt.legend(loc = \"best\")\n",
    "    plt.tight_layout()\n",
    "    \n",
    "\n",
    "    plt.show()"
   ]
  },
  {
   "cell_type": "code",
   "execution_count": 79,
   "id": "e1e43d93-4b56-4ccc-8925-d99c664e8264",
   "metadata": {},
   "outputs": [
    {
     "data": {
      "image/png": "[encoded data removed]",
      "text/plain": [
       "<Figure size 500x500 with 1 Axes>"
      ]
     },
     "metadata": {},
     "output_type": "display_data"
    }
   ],
   "source": [
    "learning_curve_plot(aal_rf, X_train, y_train, scoring = 'accuracy')"
   ]
  },
  {
   "cell_type": "code",
   "execution_count": null,
   "id": "19b8fba1-2ed0-497e-b67b-34a8b31f05b4",
   "metadata": {},
   "outputs": [],
   "source": []
  },
  {
   "cell_type": "code",
   "execution_count": null,
   "id": "d7c27989-2a83-4f49-a381-66a197341522",
   "metadata": {},
   "outputs": [],
   "source": []
  },
  {
   "cell_type": "code",
   "execution_count": null,
   "id": "1ab6aca4-23a2-4f89-90c1-ef569ff58524",
   "metadata": {},
   "outputs": [],
   "source": []
  },
  {
   "cell_type": "code",
   "execution_count": null,
   "id": "f6a3c410-e9dc-4486-b96e-979aaa0a4772",
   "metadata": {},
   "outputs": [],
   "source": []
  },
  {
   "cell_type": "code",
   "execution_count": null,
   "id": "5422eafc-2bec-4a12-8e90-2aff7ea2c2a4",
   "metadata": {},
   "outputs": [],
   "source": []
  },
  {
   "cell_type": "code",
   "execution_count": null,
   "id": "aba0949e-05c4-4b73-8625-80c117ffb7f2",
   "metadata": {},
   "outputs": [],
   "source": []
  },
  {
   "cell_type": "code",
   "execution_count": null,
   "id": "e030cb48-3087-4807-8507-9143b5676649",
   "metadata": {},
   "outputs": [],
   "source": []
  },
  {
   "cell_type": "markdown",
   "id": "b1cfffa7-cc1e-428a-9f1e-97d19fefb537",
   "metadata": {},
   "source": [
    "# 4. Evaluation"
   ]
  },
  {
   "cell_type": "code",
   "execution_count": null,
   "id": "c0fab65e-afbc-452a-8e5b-d2fe5e19b366",
   "metadata": {},
   "outputs": [],
   "source": []
  }
 ],
 "metadata": {
  "kernelspec": {
   "display_name": "Python 3 (ipykernel)",
   "language": "python",
   "name": "python3"
  },
  "language_info": {
   "codemirror_mode": {
    "name": "ipython",
    "version": 3
   },
   "file_extension": ".py",
   "mimetype": "text/x-python",
   "name": "python",
   "nbconvert_exporter": "python",
   "pygments_lexer": "ipython3",
   "version": "3.11.8"
  }
 },
 "nbformat": 4,
 "nbformat_minor": 5
}
